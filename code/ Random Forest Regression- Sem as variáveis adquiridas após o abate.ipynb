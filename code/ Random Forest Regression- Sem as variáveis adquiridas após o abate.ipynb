{
 "cells": [
  {
   "cell_type": "markdown",
   "id": "d0f6f2d3",
   "metadata": {},
   "source": [
    "# Random Forest Regression - Sem variáveis adquiridas após o abate"
   ]
  },
  {
   "cell_type": "code",
   "execution_count": 8,
   "id": "49b294bb",
   "metadata": {},
   "outputs": [],
   "source": [
    "import warnings\n",
    "warnings.simplefilter(action='ignore', category=FutureWarning)\n",
    "\n",
    "import pandas as pd\n",
    "import numpy as np\n",
    "from sklearn.model_selection import train_test_split\n",
    "from sklearn.ensemble import RandomForestRegressor\n",
    "from sklearn.metrics import accuracy_score, recall_score, confusion_matrix\n",
    "from sklearn import metrics\n",
    "from sklearn.metrics import mean_squared_error"
   ]
  },
  {
   "cell_type": "code",
   "execution_count": 9,
   "id": "fe89f04b",
   "metadata": {},
   "outputs": [],
   "source": [
    "df = pd.read_csv('../../dados/dadosTransformados_v1.csv', sep=';')"
   ]
  },
  {
   "cell_type": "code",
   "execution_count": 10,
   "id": "d4ed5114",
   "metadata": {
    "scrolled": true
   },
   "outputs": [
    {
     "data": {
      "text/plain": [
       "(960939, 53)"
      ]
     },
     "execution_count": 10,
     "metadata": {},
     "output_type": "execute_result"
    }
   ],
   "source": [
    "df.shape"
   ]
  },
  {
   "cell_type": "code",
   "execution_count": 11,
   "id": "44e7c2dc",
   "metadata": {},
   "outputs": [],
   "source": [
    "pd.set_option('display.max_columns',999)\n",
    "pd.set_option(\"display.max_rows\", 999)"
   ]
  },
  {
   "cell_type": "code",
   "execution_count": 12,
   "id": "56d6603d",
   "metadata": {
    "scrolled": true
   },
   "outputs": [
    {
     "data": {
      "text/html": [
       "<div>\n",
       "<style scoped>\n",
       "    .dataframe tbody tr th:only-of-type {\n",
       "        vertical-align: middle;\n",
       "    }\n",
       "\n",
       "    .dataframe tbody tr th {\n",
       "        vertical-align: top;\n",
       "    }\n",
       "\n",
       "    .dataframe thead th {\n",
       "        text-align: right;\n",
       "    }\n",
       "</style>\n",
       "<table border=\"1\" class=\"dataframe\">\n",
       "  <thead>\n",
       "    <tr style=\"text-align: right;\">\n",
       "      <th></th>\n",
       "      <th>tipificacao_1</th>\n",
       "      <th>tipificacao_2</th>\n",
       "      <th>tipificacao_3</th>\n",
       "      <th>maturidade</th>\n",
       "      <th>acabamento</th>\n",
       "      <th>peso</th>\n",
       "      <th>classificacao_estabelecimento</th>\n",
       "      <th>outros_incentivos</th>\n",
       "      <th>pratica_recuperacao_pastagem</th>\n",
       "      <th>fertiirrigacao</th>\n",
       "      <th>ilp</th>\n",
       "      <th>ilpf</th>\n",
       "      <th>ifp</th>\n",
       "      <th>fabrica_racao</th>\n",
       "      <th>identificacao_individual</th>\n",
       "      <th>regua_de_manejo</th>\n",
       "      <th>bpa</th>\n",
       "      <th>participa_aliancas_mercadologicas</th>\n",
       "      <th>rastreamento_sisbov</th>\n",
       "      <th>tot1m_chuva</th>\n",
       "      <th>med1m_formituinst</th>\n",
       "      <th>med1m_ndvi</th>\n",
       "      <th>med1m_prer_soja</th>\n",
       "      <th>med1m_prer_milho</th>\n",
       "      <th>med1m_prer_boi</th>\n",
       "      <th>tot3m_chuva</th>\n",
       "      <th>med3m_formituinst</th>\n",
       "      <th>med3m_ndvi</th>\n",
       "      <th>med3m_prer_soja</th>\n",
       "      <th>med3m_prer_milho</th>\n",
       "      <th>med3m_prer_boi</th>\n",
       "      <th>tot6m_chuva</th>\n",
       "      <th>med6m_formituinst</th>\n",
       "      <th>med6m_ndvi</th>\n",
       "      <th>med6m_prer_soja</th>\n",
       "      <th>med6m_prer_milho</th>\n",
       "      <th>med6m_prer_boi</th>\n",
       "      <th>tot12m_chuva</th>\n",
       "      <th>med12m_formituinst</th>\n",
       "      <th>med12m_ndvi</th>\n",
       "      <th>med12m_prer_soja</th>\n",
       "      <th>med12m_prer_milho</th>\n",
       "      <th>med12m_prer_boi</th>\n",
       "      <th>cnt1m_cl_ituinst</th>\n",
       "      <th>cnt3m_cl_ituinst</th>\n",
       "      <th>cnt6m_cl_ituinst</th>\n",
       "      <th>cnt12m_cl_ituinst</th>\n",
       "      <th>ano</th>\n",
       "      <th>categoria</th>\n",
       "      <th>classificacao</th>\n",
       "      <th>longitude</th>\n",
       "      <th>latitude</th>\n",
       "      <th>mes</th>\n",
       "    </tr>\n",
       "  </thead>\n",
       "  <tbody>\n",
       "    <tr>\n",
       "      <th>510786</th>\n",
       "      <td>1</td>\n",
       "      <td>0</td>\n",
       "      <td>0</td>\n",
       "      <td>2</td>\n",
       "      <td>3</td>\n",
       "      <td>306.0</td>\n",
       "      <td>26.0</td>\n",
       "      <td>0</td>\n",
       "      <td>1</td>\n",
       "      <td>1</td>\n",
       "      <td>0</td>\n",
       "      <td>0</td>\n",
       "      <td>0</td>\n",
       "      <td>1</td>\n",
       "      <td>1</td>\n",
       "      <td>1</td>\n",
       "      <td>0</td>\n",
       "      <td>0</td>\n",
       "      <td>1</td>\n",
       "      <td>11.38</td>\n",
       "      <td>67.88</td>\n",
       "      <td>0.47</td>\n",
       "      <td>85.41</td>\n",
       "      <td>42.88</td>\n",
       "      <td>139.13</td>\n",
       "      <td>120.76</td>\n",
       "      <td>71.22</td>\n",
       "      <td>0.53</td>\n",
       "      <td>84.80</td>\n",
       "      <td>41.45</td>\n",
       "      <td>141.32</td>\n",
       "      <td>367.89</td>\n",
       "      <td>72.28</td>\n",
       "      <td>0.57</td>\n",
       "      <td>79.87</td>\n",
       "      <td>38.52</td>\n",
       "      <td>143.49</td>\n",
       "      <td>609.58</td>\n",
       "      <td>70.88</td>\n",
       "      <td>0.52</td>\n",
       "      <td>75.70</td>\n",
       "      <td>33.72</td>\n",
       "      <td>140.05</td>\n",
       "      <td>0.8621</td>\n",
       "      <td>0.6782</td>\n",
       "      <td>0.5878</td>\n",
       "      <td>0.6589</td>\n",
       "      <td>2018</td>\n",
       "      <td>2</td>\n",
       "      <td>1</td>\n",
       "      <td>-53.76168</td>\n",
       "      <td>-20.44368</td>\n",
       "      <td>6</td>\n",
       "    </tr>\n",
       "    <tr>\n",
       "      <th>28981</th>\n",
       "      <td>0</td>\n",
       "      <td>0</td>\n",
       "      <td>1</td>\n",
       "      <td>2</td>\n",
       "      <td>3</td>\n",
       "      <td>206.2</td>\n",
       "      <td>21.0</td>\n",
       "      <td>1</td>\n",
       "      <td>1</td>\n",
       "      <td>0</td>\n",
       "      <td>0</td>\n",
       "      <td>0</td>\n",
       "      <td>1</td>\n",
       "      <td>0</td>\n",
       "      <td>0</td>\n",
       "      <td>1</td>\n",
       "      <td>0</td>\n",
       "      <td>0</td>\n",
       "      <td>0</td>\n",
       "      <td>155.79</td>\n",
       "      <td>74.49</td>\n",
       "      <td>0.65</td>\n",
       "      <td>68.86</td>\n",
       "      <td>27.71</td>\n",
       "      <td>135.87</td>\n",
       "      <td>343.08</td>\n",
       "      <td>74.74</td>\n",
       "      <td>0.65</td>\n",
       "      <td>68.42</td>\n",
       "      <td>30.06</td>\n",
       "      <td>138.81</td>\n",
       "      <td>641.07</td>\n",
       "      <td>74.67</td>\n",
       "      <td>0.65</td>\n",
       "      <td>70.97</td>\n",
       "      <td>32.36</td>\n",
       "      <td>141.91</td>\n",
       "      <td>368.42</td>\n",
       "      <td>75.96</td>\n",
       "      <td>0.65</td>\n",
       "      <td>70.97</td>\n",
       "      <td>32.36</td>\n",
       "      <td>141.91</td>\n",
       "      <td>0.3226</td>\n",
       "      <td>0.3118</td>\n",
       "      <td>0.2632</td>\n",
       "      <td>0.2632</td>\n",
       "      <td>2017</td>\n",
       "      <td>2</td>\n",
       "      <td>1</td>\n",
       "      <td>-54.55245</td>\n",
       "      <td>-18.10186</td>\n",
       "      <td>6</td>\n",
       "    </tr>\n",
       "    <tr>\n",
       "      <th>99277</th>\n",
       "      <td>1</td>\n",
       "      <td>0</td>\n",
       "      <td>0</td>\n",
       "      <td>2</td>\n",
       "      <td>3</td>\n",
       "      <td>349.6</td>\n",
       "      <td>26.0</td>\n",
       "      <td>0</td>\n",
       "      <td>1</td>\n",
       "      <td>0</td>\n",
       "      <td>1</td>\n",
       "      <td>0</td>\n",
       "      <td>0</td>\n",
       "      <td>1</td>\n",
       "      <td>1</td>\n",
       "      <td>1</td>\n",
       "      <td>0</td>\n",
       "      <td>0</td>\n",
       "      <td>1</td>\n",
       "      <td>78.90</td>\n",
       "      <td>69.60</td>\n",
       "      <td>0.39</td>\n",
       "      <td>69.92</td>\n",
       "      <td>26.58</td>\n",
       "      <td>132.95</td>\n",
       "      <td>146.79</td>\n",
       "      <td>68.24</td>\n",
       "      <td>0.49</td>\n",
       "      <td>70.25</td>\n",
       "      <td>26.58</td>\n",
       "      <td>128.99</td>\n",
       "      <td>439.43</td>\n",
       "      <td>69.25</td>\n",
       "      <td>0.56</td>\n",
       "      <td>69.40</td>\n",
       "      <td>28.33</td>\n",
       "      <td>133.87</td>\n",
       "      <td>673.70</td>\n",
       "      <td>70.00</td>\n",
       "      <td>0.58</td>\n",
       "      <td>70.75</td>\n",
       "      <td>30.18</td>\n",
       "      <td>136.98</td>\n",
       "      <td>0.8387</td>\n",
       "      <td>0.8495</td>\n",
       "      <td>0.8087</td>\n",
       "      <td>0.7355</td>\n",
       "      <td>2017</td>\n",
       "      <td>2</td>\n",
       "      <td>1</td>\n",
       "      <td>-55.15011</td>\n",
       "      <td>-22.55058</td>\n",
       "      <td>8</td>\n",
       "    </tr>\n",
       "    <tr>\n",
       "      <th>245141</th>\n",
       "      <td>0</td>\n",
       "      <td>1</td>\n",
       "      <td>0</td>\n",
       "      <td>2</td>\n",
       "      <td>2</td>\n",
       "      <td>278.2</td>\n",
       "      <td>26.0</td>\n",
       "      <td>0</td>\n",
       "      <td>1</td>\n",
       "      <td>0</td>\n",
       "      <td>1</td>\n",
       "      <td>0</td>\n",
       "      <td>0</td>\n",
       "      <td>1</td>\n",
       "      <td>1</td>\n",
       "      <td>1</td>\n",
       "      <td>0</td>\n",
       "      <td>0</td>\n",
       "      <td>1</td>\n",
       "      <td>238.26</td>\n",
       "      <td>71.69</td>\n",
       "      <td>0.63</td>\n",
       "      <td>73.74</td>\n",
       "      <td>31.84</td>\n",
       "      <td>140.75</td>\n",
       "      <td>421.82</td>\n",
       "      <td>71.88</td>\n",
       "      <td>0.54</td>\n",
       "      <td>71.77</td>\n",
       "      <td>30.54</td>\n",
       "      <td>141.74</td>\n",
       "      <td>741.53</td>\n",
       "      <td>69.65</td>\n",
       "      <td>0.53</td>\n",
       "      <td>71.04</td>\n",
       "      <td>28.55</td>\n",
       "      <td>135.13</td>\n",
       "      <td>1661.02</td>\n",
       "      <td>70.29</td>\n",
       "      <td>0.59</td>\n",
       "      <td>71.04</td>\n",
       "      <td>30.31</td>\n",
       "      <td>138.25</td>\n",
       "      <td>0.8065</td>\n",
       "      <td>0.7527</td>\n",
       "      <td>0.8087</td>\n",
       "      <td>0.7387</td>\n",
       "      <td>2017</td>\n",
       "      <td>4</td>\n",
       "      <td>1</td>\n",
       "      <td>-54.19884</td>\n",
       "      <td>-23.06000</td>\n",
       "      <td>11</td>\n",
       "    </tr>\n",
       "    <tr>\n",
       "      <th>527202</th>\n",
       "      <td>0</td>\n",
       "      <td>0</td>\n",
       "      <td>1</td>\n",
       "      <td>2</td>\n",
       "      <td>3</td>\n",
       "      <td>204.0</td>\n",
       "      <td>30.0</td>\n",
       "      <td>0</td>\n",
       "      <td>1</td>\n",
       "      <td>0</td>\n",
       "      <td>0</td>\n",
       "      <td>1</td>\n",
       "      <td>0</td>\n",
       "      <td>1</td>\n",
       "      <td>1</td>\n",
       "      <td>1</td>\n",
       "      <td>0</td>\n",
       "      <td>1</td>\n",
       "      <td>0</td>\n",
       "      <td>66.58</td>\n",
       "      <td>70.81</td>\n",
       "      <td>0.58</td>\n",
       "      <td>84.83</td>\n",
       "      <td>40.55</td>\n",
       "      <td>138.53</td>\n",
       "      <td>222.58</td>\n",
       "      <td>72.09</td>\n",
       "      <td>0.62</td>\n",
       "      <td>85.49</td>\n",
       "      <td>41.05</td>\n",
       "      <td>140.76</td>\n",
       "      <td>788.67</td>\n",
       "      <td>73.99</td>\n",
       "      <td>0.65</td>\n",
       "      <td>80.47</td>\n",
       "      <td>38.71</td>\n",
       "      <td>143.10</td>\n",
       "      <td>1623.76</td>\n",
       "      <td>75.04</td>\n",
       "      <td>0.60</td>\n",
       "      <td>76.20</td>\n",
       "      <td>34.09</td>\n",
       "      <td>140.48</td>\n",
       "      <td>0.7097</td>\n",
       "      <td>0.5484</td>\n",
       "      <td>0.3880</td>\n",
       "      <td>0.2995</td>\n",
       "      <td>2018</td>\n",
       "      <td>2</td>\n",
       "      <td>1</td>\n",
       "      <td>-55.80457</td>\n",
       "      <td>-20.48236</td>\n",
       "      <td>7</td>\n",
       "    </tr>\n",
       "  </tbody>\n",
       "</table>\n",
       "</div>"
      ],
      "text/plain": [
       "        tipificacao_1  tipificacao_2  tipificacao_3  maturidade  acabamento  \\\n",
       "510786              1              0              0           2           3   \n",
       "28981               0              0              1           2           3   \n",
       "99277               1              0              0           2           3   \n",
       "245141              0              1              0           2           2   \n",
       "527202              0              0              1           2           3   \n",
       "\n",
       "         peso  classificacao_estabelecimento  outros_incentivos  \\\n",
       "510786  306.0                           26.0                  0   \n",
       "28981   206.2                           21.0                  1   \n",
       "99277   349.6                           26.0                  0   \n",
       "245141  278.2                           26.0                  0   \n",
       "527202  204.0                           30.0                  0   \n",
       "\n",
       "        pratica_recuperacao_pastagem  fertiirrigacao  ilp  ilpf  ifp  \\\n",
       "510786                             1               1    0     0    0   \n",
       "28981                              1               0    0     0    1   \n",
       "99277                              1               0    1     0    0   \n",
       "245141                             1               0    1     0    0   \n",
       "527202                             1               0    0     1    0   \n",
       "\n",
       "        fabrica_racao  identificacao_individual  regua_de_manejo  bpa  \\\n",
       "510786              1                         1                1    0   \n",
       "28981               0                         0                1    0   \n",
       "99277               1                         1                1    0   \n",
       "245141              1                         1                1    0   \n",
       "527202              1                         1                1    0   \n",
       "\n",
       "        participa_aliancas_mercadologicas  rastreamento_sisbov  tot1m_chuva  \\\n",
       "510786                                  0                    1        11.38   \n",
       "28981                                   0                    0       155.79   \n",
       "99277                                   0                    1        78.90   \n",
       "245141                                  0                    1       238.26   \n",
       "527202                                  1                    0        66.58   \n",
       "\n",
       "        med1m_formituinst  med1m_ndvi  med1m_prer_soja  med1m_prer_milho  \\\n",
       "510786              67.88        0.47            85.41             42.88   \n",
       "28981               74.49        0.65            68.86             27.71   \n",
       "99277               69.60        0.39            69.92             26.58   \n",
       "245141              71.69        0.63            73.74             31.84   \n",
       "527202              70.81        0.58            84.83             40.55   \n",
       "\n",
       "        med1m_prer_boi  tot3m_chuva  med3m_formituinst  med3m_ndvi  \\\n",
       "510786          139.13       120.76              71.22        0.53   \n",
       "28981           135.87       343.08              74.74        0.65   \n",
       "99277           132.95       146.79              68.24        0.49   \n",
       "245141          140.75       421.82              71.88        0.54   \n",
       "527202          138.53       222.58              72.09        0.62   \n",
       "\n",
       "        med3m_prer_soja  med3m_prer_milho  med3m_prer_boi  tot6m_chuva  \\\n",
       "510786            84.80             41.45          141.32       367.89   \n",
       "28981             68.42             30.06          138.81       641.07   \n",
       "99277             70.25             26.58          128.99       439.43   \n",
       "245141            71.77             30.54          141.74       741.53   \n",
       "527202            85.49             41.05          140.76       788.67   \n",
       "\n",
       "        med6m_formituinst  med6m_ndvi  med6m_prer_soja  med6m_prer_milho  \\\n",
       "510786              72.28        0.57            79.87             38.52   \n",
       "28981               74.67        0.65            70.97             32.36   \n",
       "99277               69.25        0.56            69.40             28.33   \n",
       "245141              69.65        0.53            71.04             28.55   \n",
       "527202              73.99        0.65            80.47             38.71   \n",
       "\n",
       "        med6m_prer_boi  tot12m_chuva  med12m_formituinst  med12m_ndvi  \\\n",
       "510786          143.49        609.58               70.88         0.52   \n",
       "28981           141.91        368.42               75.96         0.65   \n",
       "99277           133.87        673.70               70.00         0.58   \n",
       "245141          135.13       1661.02               70.29         0.59   \n",
       "527202          143.10       1623.76               75.04         0.60   \n",
       "\n",
       "        med12m_prer_soja  med12m_prer_milho  med12m_prer_boi  \\\n",
       "510786             75.70              33.72           140.05   \n",
       "28981              70.97              32.36           141.91   \n",
       "99277              70.75              30.18           136.98   \n",
       "245141             71.04              30.31           138.25   \n",
       "527202             76.20              34.09           140.48   \n",
       "\n",
       "        cnt1m_cl_ituinst  cnt3m_cl_ituinst  cnt6m_cl_ituinst  \\\n",
       "510786            0.8621            0.6782            0.5878   \n",
       "28981             0.3226            0.3118            0.2632   \n",
       "99277             0.8387            0.8495            0.8087   \n",
       "245141            0.8065            0.7527            0.8087   \n",
       "527202            0.7097            0.5484            0.3880   \n",
       "\n",
       "        cnt12m_cl_ituinst   ano  categoria  classificacao  longitude  \\\n",
       "510786             0.6589  2018          2              1  -53.76168   \n",
       "28981              0.2632  2017          2              1  -54.55245   \n",
       "99277              0.7355  2017          2              1  -55.15011   \n",
       "245141             0.7387  2017          4              1  -54.19884   \n",
       "527202             0.2995  2018          2              1  -55.80457   \n",
       "\n",
       "        latitude  mes  \n",
       "510786 -20.44368    6  \n",
       "28981  -18.10186    6  \n",
       "99277  -22.55058    8  \n",
       "245141 -23.06000   11  \n",
       "527202 -20.48236    7  "
      ]
     },
     "execution_count": 12,
     "metadata": {},
     "output_type": "execute_result"
    }
   ],
   "source": [
    "df.sample(5)"
   ]
  },
  {
   "cell_type": "markdown",
   "id": "8240cf88",
   "metadata": {},
   "source": [
    "## Criando conjunto de treino e de teste"
   ]
  },
  {
   "cell_type": "code",
   "execution_count": 13,
   "id": "e451629c",
   "metadata": {},
   "outputs": [],
   "source": [
    "y = df['peso']\n",
    "# Retirar a variável alvo e as variáveis obtidas após o abate \n",
    "X = df.drop(['peso','acabamento', 'maturidade', '=='],axis=1)"
   ]
  },
  {
   "cell_type": "code",
   "execution_count": 14,
   "id": "325784c1",
   "metadata": {},
   "outputs": [],
   "source": [
    "SEED = 43"
   ]
  },
  {
   "cell_type": "code",
   "execution_count": 15,
   "id": "15532ce0",
   "metadata": {},
   "outputs": [],
   "source": [
    "X_train, X_test, y_train, y_test = train_test_split(X, y, test_size=0.3, random_state=SEED)"
   ]
  },
  {
   "cell_type": "code",
   "execution_count": 16,
   "id": "abe65a5c",
   "metadata": {},
   "outputs": [
    {
     "data": {
      "text/plain": [
       "(672657, 49)"
      ]
     },
     "execution_count": 16,
     "metadata": {},
     "output_type": "execute_result"
    }
   ],
   "source": [
    "X_train.shape"
   ]
  },
  {
   "cell_type": "markdown",
   "id": "c147855a",
   "metadata": {},
   "source": [
    "## Treinando o Modelo"
   ]
  },
  {
   "cell_type": "code",
   "execution_count": 17,
   "id": "c386b91c",
   "metadata": {},
   "outputs": [
    {
     "data": {
      "text/plain": [
       "RandomForestRegressor(random_state=0)"
      ]
     },
     "execution_count": 17,
     "metadata": {},
     "output_type": "execute_result"
    }
   ],
   "source": [
    "model = RandomForestRegressor(n_estimators = 100, random_state = 0)\n",
    "model.fit(X, y)  "
   ]
  },
  {
   "cell_type": "markdown",
   "id": "d46f5a5c",
   "metadata": {},
   "source": [
    "## Previsões dados de treino"
   ]
  },
  {
   "cell_type": "code",
   "execution_count": 18,
   "id": "addf0f71",
   "metadata": {},
   "outputs": [],
   "source": [
    "y_predicted_train = model.predict(X_train)\n",
    "y_predicted = model.predict(X_test)"
   ]
  },
  {
   "cell_type": "markdown",
   "id": "4cf01449",
   "metadata": {},
   "source": [
    "## Analisando o Modelo"
   ]
  },
  {
   "cell_type": "code",
   "execution_count": 19,
   "id": "269c782f",
   "metadata": {},
   "outputs": [
    {
     "name": "stdout",
     "output_type": "stream",
     "text": [
      "0.7965032503926766\n"
     ]
    }
   ],
   "source": [
    "print(model.score(X_test, y_test))"
   ]
  },
  {
   "cell_type": "code",
   "execution_count": 20,
   "id": "b2c174c7",
   "metadata": {},
   "outputs": [
    {
     "name": "stdout",
     "output_type": "stream",
     "text": [
      "19.991932201321678\n"
     ]
    }
   ],
   "source": [
    "print(np.sqrt(mean_squared_error(y_test, y_predicted)))"
   ]
  },
  {
   "cell_type": "code",
   "execution_count": 21,
   "id": "48c2b0f8",
   "metadata": {},
   "outputs": [
    {
     "name": "stdout",
     "output_type": "stream",
     "text": [
      "Mean Absolute Error (MAE): 15.107740889922992\n",
      "Mean Squared Error (MSE): 399.67735314224257\n",
      "Root Mean Squared Error (RMSEp): 19.991932201321678\n"
     ]
    }
   ],
   "source": [
    "print('Mean Absolute Error (MAE):', metrics.mean_absolute_error(y_test, y_predicted))\n",
    "print('Mean Squared Error (MSE):', metrics.mean_squared_error(y_test, y_predicted))\n",
    "print('Root Mean Squared Error (RMSEp):', np.sqrt(metrics.mean_squared_error(y_test, y_predicted)))"
   ]
  },
  {
   "cell_type": "markdown",
   "id": "d72b0b9a",
   "metadata": {},
   "source": [
    "## Validação do Modelo"
   ]
  },
  {
   "cell_type": "code",
   "execution_count": 22,
   "id": "0d357bde",
   "metadata": {},
   "outputs": [],
   "source": [
    "from sklearn.model_selection import KFold\n",
    "from sklearn.model_selection import cross_validate"
   ]
  },
  {
   "cell_type": "code",
   "execution_count": 23,
   "id": "21cfab33",
   "metadata": {},
   "outputs": [],
   "source": [
    "SEED = 1580\n",
    "np.random.seed(SEED)\n",
    "cv = KFold(n_splits = 10, shuffle = True)\n",
    "results = cross_validate(model, X, y,cv=cv, return_train_score= False)"
   ]
  },
  {
   "cell_type": "code",
   "execution_count": 24,
   "id": "f2f6f788",
   "metadata": {},
   "outputs": [],
   "source": [
    "def imprime_resulado(results) :\n",
    "    media = results ['test_score'].mean()\n",
    "    print('Accuracy médio %.2f' % (media*100))\n",
    "    desvio_padrao = results['test_score'].std()\n",
    "    print(\"Accuracy intervalo [ %.2f, %.2f ]\" % (media - 2 * desvio_padrao, media + 2 * desvio_padrao))\n",
    "    "
   ]
  },
  {
   "cell_type": "code",
   "execution_count": 25,
   "id": "fcb7b1b8",
   "metadata": {},
   "outputs": [
    {
     "name": "stdout",
     "output_type": "stream",
     "text": [
      "Accuracy médio 78.53\n",
      "Accuracy intervalo [ 0.78, 0.79 ]\n"
     ]
    }
   ],
   "source": [
    "imprime_resulado(results)"
   ]
  },
  {
   "cell_type": "markdown",
   "id": "53d4800a",
   "metadata": {},
   "source": [
    "## GridSearchCV"
   ]
  },
  {
   "cell_type": "code",
   "execution_count": null,
   "id": "bf0fda72",
   "metadata": {},
   "outputs": [],
   "source": [
    "from sklearn.model_selection import GridSearchCV"
   ]
  }
 ],
 "metadata": {
  "kernelspec": {
   "display_name": "Python 3",
   "language": "python",
   "name": "python3"
  },
  "language_info": {
   "codemirror_mode": {
    "name": "ipython",
    "version": 3
   },
   "file_extension": ".py",
   "mimetype": "text/x-python",
   "name": "python",
   "nbconvert_exporter": "python",
   "pygments_lexer": "ipython3",
   "version": "3.8.8"
  }
 },
 "nbformat": 4,
 "nbformat_minor": 5
}
