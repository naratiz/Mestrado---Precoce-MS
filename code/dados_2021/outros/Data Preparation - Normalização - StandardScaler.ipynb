{
 "cells": [
  {
   "cell_type": "code",
   "execution_count": 26,
   "id": "fbade9ea",
   "metadata": {},
   "outputs": [],
   "source": [
    "import pandas as pd\n",
    "from sklearn.preprocessing import StandardScaler"
   ]
  },
  {
   "cell_type": "code",
   "execution_count": 27,
   "id": "3a8cfdd1",
   "metadata": {},
   "outputs": [],
   "source": [
    "df = pd.read_csv('../../dados/dadosTransformados_v1.csv', sep=';')"
   ]
  },
  {
   "cell_type": "code",
   "execution_count": 28,
   "id": "b31587de",
   "metadata": {},
   "outputs": [
    {
     "data": {
      "text/plain": [
       "(960939, 53)"
      ]
     },
     "execution_count": 28,
     "metadata": {},
     "output_type": "execute_result"
    }
   ],
   "source": [
    "df.shape"
   ]
  },
  {
   "cell_type": "code",
   "execution_count": 29,
   "id": "0457c5c9",
   "metadata": {},
   "outputs": [],
   "source": [
    "dados_alvo = df['peso']"
   ]
  },
  {
   "cell_type": "code",
   "execution_count": 30,
   "id": "40d15e25",
   "metadata": {},
   "outputs": [],
   "source": [
    "dados_alvo = pd.DataFrame(data=dados_alvo, columns=['peso'])"
   ]
  },
  {
   "cell_type": "code",
   "execution_count": 31,
   "id": "eae14f0d",
   "metadata": {},
   "outputs": [],
   "source": [
    "dados_preditores = df.drop('peso', axis=1) "
   ]
  },
  {
   "cell_type": "code",
   "execution_count": 32,
   "id": "9c442b77",
   "metadata": {},
   "outputs": [],
   "source": [
    "dados_preditores_labels = dados_preditores.columns.values.tolist()"
   ]
  },
  {
   "cell_type": "code",
   "execution_count": 33,
   "id": "f58eb059",
   "metadata": {},
   "outputs": [],
   "source": [
    "scaler = StandardScaler()"
   ]
  },
  {
   "cell_type": "code",
   "execution_count": 34,
   "id": "3b4bae4f",
   "metadata": {},
   "outputs": [
    {
     "data": {
      "text/plain": [
       "StandardScaler()"
      ]
     },
     "execution_count": 34,
     "metadata": {},
     "output_type": "execute_result"
    }
   ],
   "source": [
    "scaler.fit(dados_preditores)"
   ]
  },
  {
   "cell_type": "code",
   "execution_count": 35,
   "id": "54465e22",
   "metadata": {},
   "outputs": [],
   "source": [
    "dados_preditores = scaler.transform(dados_preditores)"
   ]
  },
  {
   "cell_type": "code",
   "execution_count": 36,
   "id": "33d976fe",
   "metadata": {},
   "outputs": [],
   "source": [
    "dados_preditores = pd.DataFrame(dados_preditores)\n"
   ]
  },
  {
   "cell_type": "code",
   "execution_count": 37,
   "id": "45a0f220",
   "metadata": {},
   "outputs": [],
   "source": [
    "dados_preditores.columns = dados_preditores_labels"
   ]
  },
  {
   "cell_type": "code",
   "execution_count": 38,
   "id": "ea5c1241",
   "metadata": {},
   "outputs": [],
   "source": [
    "df = dados_preditores.join(dados_alvo)"
   ]
  },
  {
   "cell_type": "code",
   "execution_count": 39,
   "id": "ed3fb8c5",
   "metadata": {},
   "outputs": [
    {
     "data": {
      "text/html": [
       "<div>\n",
       "<style scoped>\n",
       "    .dataframe tbody tr th:only-of-type {\n",
       "        vertical-align: middle;\n",
       "    }\n",
       "\n",
       "    .dataframe tbody tr th {\n",
       "        vertical-align: top;\n",
       "    }\n",
       "\n",
       "    .dataframe thead th {\n",
       "        text-align: right;\n",
       "    }\n",
       "</style>\n",
       "<table border=\"1\" class=\"dataframe\">\n",
       "  <thead>\n",
       "    <tr style=\"text-align: right;\">\n",
       "      <th></th>\n",
       "      <th>tipificacao_1</th>\n",
       "      <th>tipificacao_2</th>\n",
       "      <th>tipificacao_3</th>\n",
       "      <th>maturidade</th>\n",
       "      <th>acabamento</th>\n",
       "      <th>classificacao_estabelecimento</th>\n",
       "      <th>outros_incentivos</th>\n",
       "      <th>pratica_recuperacao_pastagem</th>\n",
       "      <th>fertiirrigacao</th>\n",
       "      <th>ilp</th>\n",
       "      <th>...</th>\n",
       "      <th>cnt3m_cl_ituinst</th>\n",
       "      <th>cnt6m_cl_ituinst</th>\n",
       "      <th>cnt12m_cl_ituinst</th>\n",
       "      <th>ano</th>\n",
       "      <th>categoria</th>\n",
       "      <th>classificacao</th>\n",
       "      <th>longitude</th>\n",
       "      <th>latitude</th>\n",
       "      <th>mes</th>\n",
       "      <th>peso</th>\n",
       "    </tr>\n",
       "  </thead>\n",
       "  <tbody>\n",
       "    <tr>\n",
       "      <th>0</th>\n",
       "      <td>1.016788</td>\n",
       "      <td>-0.536569</td>\n",
       "      <td>-0.631005</td>\n",
       "      <td>-0.845479</td>\n",
       "      <td>0.590265</td>\n",
       "      <td>0.421532</td>\n",
       "      <td>-0.240294</td>\n",
       "      <td>-1.206994</td>\n",
       "      <td>-0.322802</td>\n",
       "      <td>-0.850991</td>\n",
       "      <td>...</td>\n",
       "      <td>-0.219926</td>\n",
       "      <td>-0.295344</td>\n",
       "      <td>-0.072351</td>\n",
       "      <td>-1.487166</td>\n",
       "      <td>-1.138717</td>\n",
       "      <td>0.436875</td>\n",
       "      <td>-0.104102</td>\n",
       "      <td>0.525202</td>\n",
       "      <td>-1.959673</td>\n",
       "      <td>345.4</td>\n",
       "    </tr>\n",
       "    <tr>\n",
       "      <th>1</th>\n",
       "      <td>1.016788</td>\n",
       "      <td>-0.536569</td>\n",
       "      <td>-0.631005</td>\n",
       "      <td>-0.845479</td>\n",
       "      <td>0.590265</td>\n",
       "      <td>0.421532</td>\n",
       "      <td>-0.240294</td>\n",
       "      <td>-1.206994</td>\n",
       "      <td>-0.322802</td>\n",
       "      <td>-0.850991</td>\n",
       "      <td>...</td>\n",
       "      <td>-0.219926</td>\n",
       "      <td>-0.295344</td>\n",
       "      <td>-0.072351</td>\n",
       "      <td>-1.487166</td>\n",
       "      <td>-1.138717</td>\n",
       "      <td>0.436875</td>\n",
       "      <td>-0.104102</td>\n",
       "      <td>0.525202</td>\n",
       "      <td>-1.959673</td>\n",
       "      <td>268.8</td>\n",
       "    </tr>\n",
       "    <tr>\n",
       "      <th>2</th>\n",
       "      <td>1.016788</td>\n",
       "      <td>-0.536569</td>\n",
       "      <td>-0.631005</td>\n",
       "      <td>-0.845479</td>\n",
       "      <td>0.590265</td>\n",
       "      <td>0.421532</td>\n",
       "      <td>-0.240294</td>\n",
       "      <td>-1.206994</td>\n",
       "      <td>-0.322802</td>\n",
       "      <td>-0.850991</td>\n",
       "      <td>...</td>\n",
       "      <td>-0.219926</td>\n",
       "      <td>-0.295344</td>\n",
       "      <td>-0.072351</td>\n",
       "      <td>-1.487166</td>\n",
       "      <td>-1.138717</td>\n",
       "      <td>0.436875</td>\n",
       "      <td>-0.104102</td>\n",
       "      <td>0.525202</td>\n",
       "      <td>-1.959673</td>\n",
       "      <td>288.4</td>\n",
       "    </tr>\n",
       "    <tr>\n",
       "      <th>3</th>\n",
       "      <td>1.016788</td>\n",
       "      <td>-0.536569</td>\n",
       "      <td>-0.631005</td>\n",
       "      <td>-0.845479</td>\n",
       "      <td>0.590265</td>\n",
       "      <td>0.421532</td>\n",
       "      <td>-0.240294</td>\n",
       "      <td>-1.206994</td>\n",
       "      <td>-0.322802</td>\n",
       "      <td>-0.850991</td>\n",
       "      <td>...</td>\n",
       "      <td>-0.219926</td>\n",
       "      <td>-0.295344</td>\n",
       "      <td>-0.072351</td>\n",
       "      <td>-1.487166</td>\n",
       "      <td>-1.138717</td>\n",
       "      <td>0.436875</td>\n",
       "      <td>-0.104102</td>\n",
       "      <td>0.525202</td>\n",
       "      <td>-1.959673</td>\n",
       "      <td>357.2</td>\n",
       "    </tr>\n",
       "    <tr>\n",
       "      <th>4</th>\n",
       "      <td>1.016788</td>\n",
       "      <td>-0.536569</td>\n",
       "      <td>-0.631005</td>\n",
       "      <td>-0.845479</td>\n",
       "      <td>0.590265</td>\n",
       "      <td>0.421532</td>\n",
       "      <td>-0.240294</td>\n",
       "      <td>-1.206994</td>\n",
       "      <td>-0.322802</td>\n",
       "      <td>-0.850991</td>\n",
       "      <td>...</td>\n",
       "      <td>-0.219926</td>\n",
       "      <td>-0.295344</td>\n",
       "      <td>-0.072351</td>\n",
       "      <td>-1.487166</td>\n",
       "      <td>-1.138717</td>\n",
       "      <td>0.436875</td>\n",
       "      <td>-0.104102</td>\n",
       "      <td>0.525202</td>\n",
       "      <td>-1.959673</td>\n",
       "      <td>267.6</td>\n",
       "    </tr>\n",
       "  </tbody>\n",
       "</table>\n",
       "<p>5 rows × 53 columns</p>\n",
       "</div>"
      ],
      "text/plain": [
       "   tipificacao_1  tipificacao_2  tipificacao_3  maturidade  acabamento  \\\n",
       "0       1.016788      -0.536569      -0.631005   -0.845479    0.590265   \n",
       "1       1.016788      -0.536569      -0.631005   -0.845479    0.590265   \n",
       "2       1.016788      -0.536569      -0.631005   -0.845479    0.590265   \n",
       "3       1.016788      -0.536569      -0.631005   -0.845479    0.590265   \n",
       "4       1.016788      -0.536569      -0.631005   -0.845479    0.590265   \n",
       "\n",
       "   classificacao_estabelecimento  outros_incentivos  \\\n",
       "0                       0.421532          -0.240294   \n",
       "1                       0.421532          -0.240294   \n",
       "2                       0.421532          -0.240294   \n",
       "3                       0.421532          -0.240294   \n",
       "4                       0.421532          -0.240294   \n",
       "\n",
       "   pratica_recuperacao_pastagem  fertiirrigacao       ilp  ...  \\\n",
       "0                     -1.206994       -0.322802 -0.850991  ...   \n",
       "1                     -1.206994       -0.322802 -0.850991  ...   \n",
       "2                     -1.206994       -0.322802 -0.850991  ...   \n",
       "3                     -1.206994       -0.322802 -0.850991  ...   \n",
       "4                     -1.206994       -0.322802 -0.850991  ...   \n",
       "\n",
       "   cnt3m_cl_ituinst  cnt6m_cl_ituinst  cnt12m_cl_ituinst       ano  categoria  \\\n",
       "0         -0.219926         -0.295344          -0.072351 -1.487166  -1.138717   \n",
       "1         -0.219926         -0.295344          -0.072351 -1.487166  -1.138717   \n",
       "2         -0.219926         -0.295344          -0.072351 -1.487166  -1.138717   \n",
       "3         -0.219926         -0.295344          -0.072351 -1.487166  -1.138717   \n",
       "4         -0.219926         -0.295344          -0.072351 -1.487166  -1.138717   \n",
       "\n",
       "   classificacao  longitude  latitude       mes   peso  \n",
       "0       0.436875  -0.104102  0.525202 -1.959673  345.4  \n",
       "1       0.436875  -0.104102  0.525202 -1.959673  268.8  \n",
       "2       0.436875  -0.104102  0.525202 -1.959673  288.4  \n",
       "3       0.436875  -0.104102  0.525202 -1.959673  357.2  \n",
       "4       0.436875  -0.104102  0.525202 -1.959673  267.6  \n",
       "\n",
       "[5 rows x 53 columns]"
      ]
     },
     "execution_count": 39,
     "metadata": {},
     "output_type": "execute_result"
    }
   ],
   "source": [
    "df.head(5)"
   ]
  },
  {
   "cell_type": "code",
   "execution_count": 40,
   "id": "a114a903",
   "metadata": {},
   "outputs": [
    {
     "data": {
      "text/plain": [
       "(960939, 53)"
      ]
     },
     "execution_count": 40,
     "metadata": {},
     "output_type": "execute_result"
    }
   ],
   "source": [
    "df.shape"
   ]
  },
  {
   "cell_type": "code",
   "execution_count": 41,
   "id": "795e4980",
   "metadata": {},
   "outputs": [],
   "source": [
    "df.to_csv(\"dados_normalizados_scaler.csv\",sep=';', index = False)"
   ]
  }
 ],
 "metadata": {
  "kernelspec": {
   "display_name": "Python 3",
   "language": "python",
   "name": "python3"
  },
  "language_info": {
   "codemirror_mode": {
    "name": "ipython",
    "version": 3
   },
   "file_extension": ".py",
   "mimetype": "text/x-python",
   "name": "python",
   "nbconvert_exporter": "python",
   "pygments_lexer": "ipython3",
   "version": "3.8.8"
  }
 },
 "nbformat": 4,
 "nbformat_minor": 5
}
