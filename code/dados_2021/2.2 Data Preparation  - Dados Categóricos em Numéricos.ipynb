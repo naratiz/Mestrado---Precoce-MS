{
 "cells": [
  {
   "cell_type": "markdown",
   "id": "a450e7dc",
   "metadata": {},
   "source": [
    "# Transformação - Dados Categóricos em Numéricos"
   ]
  },
  {
   "cell_type": "code",
   "execution_count": 84,
   "id": "51c2b1e0",
   "metadata": {},
   "outputs": [],
   "source": [
    "import pandas as pd\n",
    "import numpy as np\n",
    "import datetime\n",
    "import category_encoders as ce\n",
    "from category_encoders.one_hot import OneHotEncoder"
   ]
  },
  {
   "cell_type": "code",
   "execution_count": 85,
   "id": "6289c8f7",
   "metadata": {},
   "outputs": [],
   "source": [
    "import warnings\n",
    "warnings.simplefilter(action='ignore', category=FutureWarning)"
   ]
  },
  {
   "cell_type": "code",
   "execution_count": 86,
   "id": "b861dd3b",
   "metadata": {},
   "outputs": [],
   "source": [
    "#!pip install category_encoders"
   ]
  },
  {
   "cell_type": "code",
   "execution_count": 89,
   "id": "0bdcddff",
   "metadata": {},
   "outputs": [],
   "source": [
    "df = pd.read_csv('../../dados/dados_limpeza.csv', sep=';')"
   ]
  },
  {
   "cell_type": "code",
   "execution_count": 90,
   "id": "0b5f6eb1",
   "metadata": {},
   "outputs": [],
   "source": [
    "pd.set_option('display.max_columns',999)\n",
    "pd.set_option(\"display.max_rows\", 999)"
   ]
  },
  {
   "cell_type": "code",
   "execution_count": 43,
   "id": "598f6b44",
   "metadata": {
    "scrolled": false
   },
   "outputs": [
    {
     "data": {
      "text/html": [
       "<div>\n",
       "<style scoped>\n",
       "    .dataframe tbody tr th:only-of-type {\n",
       "        vertical-align: middle;\n",
       "    }\n",
       "\n",
       "    .dataframe tbody tr th {\n",
       "        vertical-align: top;\n",
       "    }\n",
       "\n",
       "    .dataframe thead th {\n",
       "        text-align: right;\n",
       "    }\n",
       "</style>\n",
       "<table border=\"1\" class=\"dataframe\">\n",
       "  <thead>\n",
       "    <tr style=\"text-align: right;\">\n",
       "      <th></th>\n",
       "      <th>estabelecimento_municipio</th>\n",
       "      <th>data_abate</th>\n",
       "      <th>tipificacao</th>\n",
       "      <th>maturidade</th>\n",
       "      <th>acabamento</th>\n",
       "      <th>peso</th>\n",
       "      <th>classificacao_estabelecimento</th>\n",
       "      <th>outros_incentivos</th>\n",
       "      <th>pratica_recuperacao_pastagem</th>\n",
       "      <th>fertiirrigacao</th>\n",
       "      <th>ilp</th>\n",
       "      <th>ilpf</th>\n",
       "      <th>ifp</th>\n",
       "      <th>fabrica_racao</th>\n",
       "      <th>identificacao_individual</th>\n",
       "      <th>regua_de_manejo</th>\n",
       "      <th>bpa</th>\n",
       "      <th>participa_aliancas_mercadologicas</th>\n",
       "      <th>rastreamento_sisbov</th>\n",
       "      <th>tot1m_chuva</th>\n",
       "      <th>med1m_formituinst</th>\n",
       "      <th>med1m_ndvi</th>\n",
       "      <th>med1m_prer_soja</th>\n",
       "      <th>med1m_prer_milho</th>\n",
       "      <th>med1m_prer_boi</th>\n",
       "      <th>tot3m_chuva</th>\n",
       "      <th>med3m_formituinst</th>\n",
       "      <th>med3m_ndvi</th>\n",
       "      <th>med3m_prer_soja</th>\n",
       "      <th>med3m_prer_milho</th>\n",
       "      <th>med3m_prer_boi</th>\n",
       "      <th>tot6m_chuva</th>\n",
       "      <th>med6m_formituinst</th>\n",
       "      <th>med6m_ndvi</th>\n",
       "      <th>med6m_prer_soja</th>\n",
       "      <th>med6m_prer_milho</th>\n",
       "      <th>med6m_prer_boi</th>\n",
       "      <th>tot12m_chuva</th>\n",
       "      <th>med12m_formituinst</th>\n",
       "      <th>med12m_ndvi</th>\n",
       "      <th>med12m_prer_soja</th>\n",
       "      <th>med12m_prer_milho</th>\n",
       "      <th>med12m_prer_boi</th>\n",
       "      <th>cnt1m_cl_ituinst</th>\n",
       "      <th>cnt3m_cl_ituinst</th>\n",
       "      <th>cnt6m_cl_ituinst</th>\n",
       "      <th>cnt12m_cl_ituinst</th>\n",
       "      <th>ano</th>\n",
       "      <th>categoria</th>\n",
       "      <th>classificacao</th>\n",
       "    </tr>\n",
       "  </thead>\n",
       "  <tbody>\n",
       "    <tr>\n",
       "      <th>62549</th>\n",
       "      <td>SAO GABRIEL DO OESTE</td>\n",
       "      <td>2017-07-21</td>\n",
       "      <td>macho inteiro</td>\n",
       "      <td>Quatro dentes</td>\n",
       "      <td>gordura escassa - 1 a 3 mm de espessura</td>\n",
       "      <td>294.0</td>\n",
       "      <td>26.0</td>\n",
       "      <td>NÃO</td>\n",
       "      <td>NÃO</td>\n",
       "      <td>NÃO</td>\n",
       "      <td>NÃO</td>\n",
       "      <td>NÃO</td>\n",
       "      <td>NÃO</td>\n",
       "      <td>NÃO</td>\n",
       "      <td>SIM</td>\n",
       "      <td>SIM</td>\n",
       "      <td>NÃO</td>\n",
       "      <td>NÃO</td>\n",
       "      <td>SIM</td>\n",
       "      <td>31.60</td>\n",
       "      <td>67.51</td>\n",
       "      <td>0.45</td>\n",
       "      <td>71.03</td>\n",
       "      <td>26.58</td>\n",
       "      <td>125.78</td>\n",
       "      <td>112.60</td>\n",
       "      <td>69.36</td>\n",
       "      <td>0.55</td>\n",
       "      <td>69.50</td>\n",
       "      <td>27.27</td>\n",
       "      <td>131.42</td>\n",
       "      <td>306.00</td>\n",
       "      <td>70.48</td>\n",
       "      <td>0.60</td>\n",
       "      <td>70.32</td>\n",
       "      <td>30.48</td>\n",
       "      <td>137.04</td>\n",
       "      <td>671.60</td>\n",
       "      <td>70.76</td>\n",
       "      <td>0.60</td>\n",
       "      <td>70.83</td>\n",
       "      <td>30.97</td>\n",
       "      <td>138.22</td>\n",
       "      <td>0.9000</td>\n",
       "      <td>0.8913</td>\n",
       "      <td>0.8398</td>\n",
       "      <td>0.8291</td>\n",
       "      <td>2017</td>\n",
       "      <td>D</td>\n",
       "      <td>0</td>\n",
       "    </tr>\n",
       "    <tr>\n",
       "      <th>831757</th>\n",
       "      <td>CHAPADAO DO SUL</td>\n",
       "      <td>2018-10-16</td>\n",
       "      <td>macho inteiro</td>\n",
       "      <td>Dente de leite</td>\n",
       "      <td>gordura mediana - acima de 3 a ata 6 mm de esp...</td>\n",
       "      <td>283.5</td>\n",
       "      <td>30.0</td>\n",
       "      <td>SIM</td>\n",
       "      <td>SIM</td>\n",
       "      <td>NÃO</td>\n",
       "      <td>SIM</td>\n",
       "      <td>NÃO</td>\n",
       "      <td>NÃO</td>\n",
       "      <td>NÃO</td>\n",
       "      <td>SIM</td>\n",
       "      <td>SIM</td>\n",
       "      <td>NÃO</td>\n",
       "      <td>SIM</td>\n",
       "      <td>SIM</td>\n",
       "      <td>55.50</td>\n",
       "      <td>71.25</td>\n",
       "      <td>0.42</td>\n",
       "      <td>94.57</td>\n",
       "      <td>38.98</td>\n",
       "      <td>150.25</td>\n",
       "      <td>503.96</td>\n",
       "      <td>70.09</td>\n",
       "      <td>0.34</td>\n",
       "      <td>91.80</td>\n",
       "      <td>39.81</td>\n",
       "      <td>146.64</td>\n",
       "      <td>703.73</td>\n",
       "      <td>69.24</td>\n",
       "      <td>0.39</td>\n",
       "      <td>88.91</td>\n",
       "      <td>40.09</td>\n",
       "      <td>143.44</td>\n",
       "      <td>1280.66</td>\n",
       "      <td>70.24</td>\n",
       "      <td>0.49</td>\n",
       "      <td>82.28</td>\n",
       "      <td>37.53</td>\n",
       "      <td>143.75</td>\n",
       "      <td>0.8710</td>\n",
       "      <td>0.9140</td>\n",
       "      <td>0.9563</td>\n",
       "      <td>0.9192</td>\n",
       "      <td>2018</td>\n",
       "      <td>AAA</td>\n",
       "      <td>1</td>\n",
       "    </tr>\n",
       "    <tr>\n",
       "      <th>942446</th>\n",
       "      <td>CASSILANDIA</td>\n",
       "      <td>2018-11-20</td>\n",
       "      <td>macho inteiro</td>\n",
       "      <td>Seis dentes</td>\n",
       "      <td>gordura mediana - acima de 3 a ata 6 mm de esp...</td>\n",
       "      <td>270.0</td>\n",
       "      <td>21.0</td>\n",
       "      <td>NÃO</td>\n",
       "      <td>SIM</td>\n",
       "      <td>NÃO</td>\n",
       "      <td>SIM</td>\n",
       "      <td>NÃO</td>\n",
       "      <td>NÃO</td>\n",
       "      <td>SIM</td>\n",
       "      <td>NÃO</td>\n",
       "      <td>SIM</td>\n",
       "      <td>NÃO</td>\n",
       "      <td>NÃO</td>\n",
       "      <td>NÃO</td>\n",
       "      <td>246.19</td>\n",
       "      <td>74.50</td>\n",
       "      <td>0.58</td>\n",
       "      <td>86.19</td>\n",
       "      <td>35.39</td>\n",
       "      <td>146.21</td>\n",
       "      <td>377.20</td>\n",
       "      <td>74.07</td>\n",
       "      <td>0.46</td>\n",
       "      <td>91.20</td>\n",
       "      <td>38.31</td>\n",
       "      <td>147.83</td>\n",
       "      <td>521.33</td>\n",
       "      <td>72.31</td>\n",
       "      <td>0.42</td>\n",
       "      <td>89.10</td>\n",
       "      <td>39.16</td>\n",
       "      <td>144.44</td>\n",
       "      <td>1649.84</td>\n",
       "      <td>73.09</td>\n",
       "      <td>0.51</td>\n",
       "      <td>83.57</td>\n",
       "      <td>37.84</td>\n",
       "      <td>144.38</td>\n",
       "      <td>0.3548</td>\n",
       "      <td>0.4333</td>\n",
       "      <td>0.6389</td>\n",
       "      <td>0.5482</td>\n",
       "      <td>2018</td>\n",
       "      <td>D</td>\n",
       "      <td>0</td>\n",
       "    </tr>\n",
       "    <tr>\n",
       "      <th>216809</th>\n",
       "      <td>SIDROLANDIA</td>\n",
       "      <td>2017-11-03</td>\n",
       "      <td>macho inteiro</td>\n",
       "      <td>Dente de leite</td>\n",
       "      <td>gordura mediana - acima de 3 a ata 6 mm de esp...</td>\n",
       "      <td>337.2</td>\n",
       "      <td>30.0</td>\n",
       "      <td>NÃO</td>\n",
       "      <td>SIM</td>\n",
       "      <td>NÃO</td>\n",
       "      <td>SIM</td>\n",
       "      <td>NÃO</td>\n",
       "      <td>NÃO</td>\n",
       "      <td>SIM</td>\n",
       "      <td>SIM</td>\n",
       "      <td>SIM</td>\n",
       "      <td>NÃO</td>\n",
       "      <td>SIM</td>\n",
       "      <td>SIM</td>\n",
       "      <td>40.76</td>\n",
       "      <td>73.85</td>\n",
       "      <td>0.53</td>\n",
       "      <td>71.61</td>\n",
       "      <td>31.38</td>\n",
       "      <td>140.69</td>\n",
       "      <td>123.39</td>\n",
       "      <td>74.18</td>\n",
       "      <td>0.45</td>\n",
       "      <td>70.60</td>\n",
       "      <td>29.05</td>\n",
       "      <td>139.28</td>\n",
       "      <td>224.00</td>\n",
       "      <td>73.60</td>\n",
       "      <td>0.51</td>\n",
       "      <td>70.35</td>\n",
       "      <td>27.99</td>\n",
       "      <td>134.44</td>\n",
       "      <td>937.22</td>\n",
       "      <td>73.10</td>\n",
       "      <td>0.56</td>\n",
       "      <td>70.80</td>\n",
       "      <td>30.19</td>\n",
       "      <td>138.02</td>\n",
       "      <td>0.3871</td>\n",
       "      <td>0.3659</td>\n",
       "      <td>0.4639</td>\n",
       "      <td>0.4965</td>\n",
       "      <td>2017</td>\n",
       "      <td>AAA</td>\n",
       "      <td>1</td>\n",
       "    </tr>\n",
       "    <tr>\n",
       "      <th>518383</th>\n",
       "      <td>BRASILANDIA</td>\n",
       "      <td>2018-05-17</td>\n",
       "      <td>femea</td>\n",
       "      <td>Dente de leite</td>\n",
       "      <td>gordura mediana - acima de 3 a ata 6 mm de esp...</td>\n",
       "      <td>194.0</td>\n",
       "      <td>21.0</td>\n",
       "      <td>NÃO</td>\n",
       "      <td>NÃO</td>\n",
       "      <td>NÃO</td>\n",
       "      <td>NÃO</td>\n",
       "      <td>NÃO</td>\n",
       "      <td>NÃO</td>\n",
       "      <td>SIM</td>\n",
       "      <td>SIM</td>\n",
       "      <td>NÃO</td>\n",
       "      <td>NÃO</td>\n",
       "      <td>NÃO</td>\n",
       "      <td>SIM</td>\n",
       "      <td>13.35</td>\n",
       "      <td>73.43</td>\n",
       "      <td>0.54</td>\n",
       "      <td>86.07</td>\n",
       "      <td>40.38</td>\n",
       "      <td>141.49</td>\n",
       "      <td>158.48</td>\n",
       "      <td>74.74</td>\n",
       "      <td>0.63</td>\n",
       "      <td>81.98</td>\n",
       "      <td>39.95</td>\n",
       "      <td>143.63</td>\n",
       "      <td>730.82</td>\n",
       "      <td>75.17</td>\n",
       "      <td>0.63</td>\n",
       "      <td>77.70</td>\n",
       "      <td>36.31</td>\n",
       "      <td>144.33</td>\n",
       "      <td>1361.73</td>\n",
       "      <td>74.21</td>\n",
       "      <td>0.57</td>\n",
       "      <td>74.12</td>\n",
       "      <td>32.22</td>\n",
       "      <td>139.38</td>\n",
       "      <td>0.5161</td>\n",
       "      <td>0.3333</td>\n",
       "      <td>0.2597</td>\n",
       "      <td>0.3434</td>\n",
       "      <td>2018</td>\n",
       "      <td>AAA</td>\n",
       "      <td>1</td>\n",
       "    </tr>\n",
       "  </tbody>\n",
       "</table>\n",
       "</div>"
      ],
      "text/plain": [
       "       estabelecimento_municipio  data_abate    tipificacao      maturidade  \\\n",
       "62549       SAO GABRIEL DO OESTE  2017-07-21  macho inteiro   Quatro dentes   \n",
       "831757           CHAPADAO DO SUL  2018-10-16  macho inteiro  Dente de leite   \n",
       "942446               CASSILANDIA  2018-11-20  macho inteiro     Seis dentes   \n",
       "216809               SIDROLANDIA  2017-11-03  macho inteiro  Dente de leite   \n",
       "518383               BRASILANDIA  2018-05-17          femea  Dente de leite   \n",
       "\n",
       "                                               acabamento   peso  \\\n",
       "62549             gordura escassa - 1 a 3 mm de espessura  294.0   \n",
       "831757  gordura mediana - acima de 3 a ata 6 mm de esp...  283.5   \n",
       "942446  gordura mediana - acima de 3 a ata 6 mm de esp...  270.0   \n",
       "216809  gordura mediana - acima de 3 a ata 6 mm de esp...  337.2   \n",
       "518383  gordura mediana - acima de 3 a ata 6 mm de esp...  194.0   \n",
       "\n",
       "        classificacao_estabelecimento outros_incentivos  \\\n",
       "62549                            26.0               NÃO   \n",
       "831757                           30.0               SIM   \n",
       "942446                           21.0               NÃO   \n",
       "216809                           30.0               NÃO   \n",
       "518383                           21.0               NÃO   \n",
       "\n",
       "       pratica_recuperacao_pastagem fertiirrigacao  ilp ilpf  ifp  \\\n",
       "62549                           NÃO            NÃO  NÃO  NÃO  NÃO   \n",
       "831757                          SIM            NÃO  SIM  NÃO  NÃO   \n",
       "942446                          SIM            NÃO  SIM  NÃO  NÃO   \n",
       "216809                          SIM            NÃO  SIM  NÃO  NÃO   \n",
       "518383                          NÃO            NÃO  NÃO  NÃO  NÃO   \n",
       "\n",
       "       fabrica_racao identificacao_individual regua_de_manejo  bpa  \\\n",
       "62549            NÃO                      SIM             SIM  NÃO   \n",
       "831757           NÃO                      SIM             SIM  NÃO   \n",
       "942446           SIM                      NÃO             SIM  NÃO   \n",
       "216809           SIM                      SIM             SIM  NÃO   \n",
       "518383           SIM                      SIM             NÃO  NÃO   \n",
       "\n",
       "       participa_aliancas_mercadologicas rastreamento_sisbov  tot1m_chuva  \\\n",
       "62549                                NÃO                 SIM        31.60   \n",
       "831757                               SIM                 SIM        55.50   \n",
       "942446                               NÃO                 NÃO       246.19   \n",
       "216809                               SIM                 SIM        40.76   \n",
       "518383                               NÃO                 SIM        13.35   \n",
       "\n",
       "        med1m_formituinst  med1m_ndvi  med1m_prer_soja  med1m_prer_milho  \\\n",
       "62549               67.51        0.45            71.03             26.58   \n",
       "831757              71.25        0.42            94.57             38.98   \n",
       "942446              74.50        0.58            86.19             35.39   \n",
       "216809              73.85        0.53            71.61             31.38   \n",
       "518383              73.43        0.54            86.07             40.38   \n",
       "\n",
       "        med1m_prer_boi  tot3m_chuva  med3m_formituinst  med3m_ndvi  \\\n",
       "62549           125.78       112.60              69.36        0.55   \n",
       "831757          150.25       503.96              70.09        0.34   \n",
       "942446          146.21       377.20              74.07        0.46   \n",
       "216809          140.69       123.39              74.18        0.45   \n",
       "518383          141.49       158.48              74.74        0.63   \n",
       "\n",
       "        med3m_prer_soja  med3m_prer_milho  med3m_prer_boi  tot6m_chuva  \\\n",
       "62549             69.50             27.27          131.42       306.00   \n",
       "831757            91.80             39.81          146.64       703.73   \n",
       "942446            91.20             38.31          147.83       521.33   \n",
       "216809            70.60             29.05          139.28       224.00   \n",
       "518383            81.98             39.95          143.63       730.82   \n",
       "\n",
       "        med6m_formituinst  med6m_ndvi  med6m_prer_soja  med6m_prer_milho  \\\n",
       "62549               70.48        0.60            70.32             30.48   \n",
       "831757              69.24        0.39            88.91             40.09   \n",
       "942446              72.31        0.42            89.10             39.16   \n",
       "216809              73.60        0.51            70.35             27.99   \n",
       "518383              75.17        0.63            77.70             36.31   \n",
       "\n",
       "        med6m_prer_boi  tot12m_chuva  med12m_formituinst  med12m_ndvi  \\\n",
       "62549           137.04        671.60               70.76         0.60   \n",
       "831757          143.44       1280.66               70.24         0.49   \n",
       "942446          144.44       1649.84               73.09         0.51   \n",
       "216809          134.44        937.22               73.10         0.56   \n",
       "518383          144.33       1361.73               74.21         0.57   \n",
       "\n",
       "        med12m_prer_soja  med12m_prer_milho  med12m_prer_boi  \\\n",
       "62549              70.83              30.97           138.22   \n",
       "831757             82.28              37.53           143.75   \n",
       "942446             83.57              37.84           144.38   \n",
       "216809             70.80              30.19           138.02   \n",
       "518383             74.12              32.22           139.38   \n",
       "\n",
       "        cnt1m_cl_ituinst  cnt3m_cl_ituinst  cnt6m_cl_ituinst  \\\n",
       "62549             0.9000            0.8913            0.8398   \n",
       "831757            0.8710            0.9140            0.9563   \n",
       "942446            0.3548            0.4333            0.6389   \n",
       "216809            0.3871            0.3659            0.4639   \n",
       "518383            0.5161            0.3333            0.2597   \n",
       "\n",
       "        cnt12m_cl_ituinst   ano categoria  classificacao  \n",
       "62549              0.8291  2017         D              0  \n",
       "831757             0.9192  2018       AAA              1  \n",
       "942446             0.5482  2018         D              0  \n",
       "216809             0.4965  2017       AAA              1  \n",
       "518383             0.3434  2018       AAA              1  "
      ]
     },
     "execution_count": 43,
     "metadata": {},
     "output_type": "execute_result"
    }
   ],
   "source": [
    "df.sample(5)"
   ]
  },
  {
   "cell_type": "code",
   "execution_count": 91,
   "id": "2ac36529",
   "metadata": {},
   "outputs": [
    {
     "data": {
      "text/plain": [
       "(960939, 50)"
      ]
     },
     "execution_count": 91,
     "metadata": {},
     "output_type": "execute_result"
    }
   ],
   "source": [
    "df.shape"
   ]
  },
  {
   "cell_type": "code",
   "execution_count": 92,
   "id": "731b06ac",
   "metadata": {},
   "outputs": [
    {
     "name": "stdout",
     "output_type": "stream",
     "text": [
      "['estabelecimento_municipio', 'data_abate', 'tipificacao', 'maturidade', 'acabamento', 'peso', 'classificacao_estabelecimento', 'outros_incentivos', 'pratica_recuperacao_pastagem', 'fertiirrigacao', 'ilp', 'ilpf', 'ifp', 'fabrica_racao', 'identificacao_individual', 'regua_de_manejo', 'bpa', 'participa_aliancas_mercadologicas', 'rastreamento_sisbov', 'tot1m_chuva', 'med1m_formituinst', 'med1m_ndvi', 'med1m_prer_soja', 'med1m_prer_milho', 'med1m_prer_boi', 'tot3m_chuva', 'med3m_formituinst', 'med3m_ndvi', 'med3m_prer_soja', 'med3m_prer_milho', 'med3m_prer_boi', 'tot6m_chuva', 'med6m_formituinst', 'med6m_ndvi', 'med6m_prer_soja', 'med6m_prer_milho', 'med6m_prer_boi', 'tot12m_chuva', 'med12m_formituinst', 'med12m_ndvi', 'med12m_prer_soja', 'med12m_prer_milho', 'med12m_prer_boi', 'cnt1m_cl_ituinst', 'cnt3m_cl_ituinst', 'cnt6m_cl_ituinst', 'cnt12m_cl_ituinst', 'ano', 'categoria', 'classificacao']\n"
     ]
    }
   ],
   "source": [
    "print(df.columns.tolist())"
   ]
  },
  {
   "cell_type": "code",
   "execution_count": 93,
   "id": "18f7315a",
   "metadata": {},
   "outputs": [],
   "source": [
    "categorical_attributes = list(df.select_dtypes(include=['object']).columns)"
   ]
  },
  {
   "cell_type": "code",
   "execution_count": 94,
   "id": "0685bf90",
   "metadata": {},
   "outputs": [
    {
     "data": {
      "text/plain": [
       "['estabelecimento_municipio',\n",
       " 'data_abate',\n",
       " 'tipificacao',\n",
       " 'maturidade',\n",
       " 'acabamento',\n",
       " 'outros_incentivos',\n",
       " 'pratica_recuperacao_pastagem',\n",
       " 'fertiirrigacao',\n",
       " 'ilp',\n",
       " 'ilpf',\n",
       " 'ifp',\n",
       " 'fabrica_racao',\n",
       " 'identificacao_individual',\n",
       " 'regua_de_manejo',\n",
       " 'bpa',\n",
       " 'participa_aliancas_mercadologicas',\n",
       " 'rastreamento_sisbov',\n",
       " 'categoria']"
      ]
     },
     "execution_count": 94,
     "metadata": {},
     "output_type": "execute_result"
    }
   ],
   "source": [
    "categorical_attributes"
   ]
  },
  {
   "cell_type": "markdown",
   "id": "5da218cc",
   "metadata": {},
   "source": [
    "### 1. Estabelecimento Município"
   ]
  },
  {
   "cell_type": "code",
   "execution_count": 95,
   "id": "1610c0a3",
   "metadata": {},
   "outputs": [],
   "source": [
    "csv_municipios = pd.read_csv('../../dados/municipios.csv', encoding='utf-8', delimiter=',')"
   ]
  },
  {
   "cell_type": "code",
   "execution_count": 96,
   "id": "3bebf830",
   "metadata": {},
   "outputs": [
    {
     "data": {
      "text/html": [
       "<div>\n",
       "<style scoped>\n",
       "    .dataframe tbody tr th:only-of-type {\n",
       "        vertical-align: middle;\n",
       "    }\n",
       "\n",
       "    .dataframe tbody tr th {\n",
       "        vertical-align: top;\n",
       "    }\n",
       "\n",
       "    .dataframe thead th {\n",
       "        text-align: right;\n",
       "    }\n",
       "</style>\n",
       "<table border=\"1\" class=\"dataframe\">\n",
       "  <thead>\n",
       "    <tr style=\"text-align: right;\">\n",
       "      <th></th>\n",
       "      <th>NOME_MUNIC</th>\n",
       "      <th>longitude</th>\n",
       "      <th>latitude</th>\n",
       "    </tr>\n",
       "  </thead>\n",
       "  <tbody>\n",
       "    <tr>\n",
       "      <th>0</th>\n",
       "      <td>MUNDO NOVO</td>\n",
       "      <td>-54.28166</td>\n",
       "      <td>-23.93527</td>\n",
       "    </tr>\n",
       "    <tr>\n",
       "      <th>1</th>\n",
       "      <td>PARANHOS</td>\n",
       "      <td>-55.43303</td>\n",
       "      <td>-23.89687</td>\n",
       "    </tr>\n",
       "    <tr>\n",
       "      <th>2</th>\n",
       "      <td>JAPORA</td>\n",
       "      <td>-54.40349</td>\n",
       "      <td>-23.89407</td>\n",
       "    </tr>\n",
       "    <tr>\n",
       "      <th>3</th>\n",
       "      <td>ELDORADO</td>\n",
       "      <td>-54.28003</td>\n",
       "      <td>-23.77405</td>\n",
       "    </tr>\n",
       "    <tr>\n",
       "      <th>4</th>\n",
       "      <td>IGUATEMI</td>\n",
       "      <td>-54.55860</td>\n",
       "      <td>-23.66190</td>\n",
       "    </tr>\n",
       "  </tbody>\n",
       "</table>\n",
       "</div>"
      ],
      "text/plain": [
       "   NOME_MUNIC  longitude  latitude\n",
       "0  MUNDO NOVO  -54.28166 -23.93527\n",
       "1    PARANHOS  -55.43303 -23.89687\n",
       "2      JAPORA  -54.40349 -23.89407\n",
       "3    ELDORADO  -54.28003 -23.77405\n",
       "4    IGUATEMI  -54.55860 -23.66190"
      ]
     },
     "execution_count": 96,
     "metadata": {},
     "output_type": "execute_result"
    }
   ],
   "source": [
    "csv_municipios.head()"
   ]
  },
  {
   "cell_type": "code",
   "execution_count": 97,
   "id": "7af1b39d",
   "metadata": {},
   "outputs": [],
   "source": [
    "df = pd.merge(df, csv_municipios, how='left', left_on='estabelecimento_municipio', right_on='NOME_MUNIC')"
   ]
  },
  {
   "cell_type": "code",
   "execution_count": 98,
   "id": "23406806",
   "metadata": {},
   "outputs": [],
   "source": [
    "df.drop(['estabelecimento_municipio', 'NOME_MUNIC'], axis=1, inplace=True)\n",
    "#df.index.name = 'index'"
   ]
  },
  {
   "cell_type": "code",
   "execution_count": 52,
   "id": "7733dc85",
   "metadata": {},
   "outputs": [],
   "source": [
    "# colunas_para_conversao = ['longitude','latitude']"
   ]
  },
  {
   "cell_type": "code",
   "execution_count": 53,
   "id": "ee02125a",
   "metadata": {},
   "outputs": [],
   "source": [
    "# for cc in colunas_para_conversao:\n",
    "#    df[cc] = df[cc].str.replace(',','.').astype(float)"
   ]
  },
  {
   "cell_type": "code",
   "execution_count": 99,
   "id": "b90020ac",
   "metadata": {},
   "outputs": [],
   "source": [
    "selecao = df[df['longitude'].isnull()]"
   ]
  },
  {
   "cell_type": "code",
   "execution_count": 100,
   "id": "c30b4597",
   "metadata": {
    "scrolled": true
   },
   "outputs": [
    {
     "data": {
      "text/plain": [
       "(0, 51)"
      ]
     },
     "execution_count": 100,
     "metadata": {},
     "output_type": "execute_result"
    }
   ],
   "source": [
    "selecao.shape"
   ]
  },
  {
   "cell_type": "markdown",
   "id": "0862dd8a",
   "metadata": {},
   "source": [
    "### 2. Datas"
   ]
  },
  {
   "cell_type": "code",
   "execution_count": 101,
   "id": "358505b5",
   "metadata": {},
   "outputs": [],
   "source": [
    "df['data_abate'] = pd.to_datetime(df['data_abate'])"
   ]
  },
  {
   "cell_type": "code",
   "execution_count": 102,
   "id": "90a2f7ed",
   "metadata": {},
   "outputs": [],
   "source": [
    "df['mes'] = df['data_abate'].dt.month "
   ]
  },
  {
   "cell_type": "code",
   "execution_count": 103,
   "id": "4e0586a1",
   "metadata": {},
   "outputs": [],
   "source": [
    "df.drop(['data_abate'], axis=1, inplace=True)"
   ]
  },
  {
   "cell_type": "markdown",
   "id": "d9968a50",
   "metadata": {},
   "source": [
    "### 3. Tipificação"
   ]
  },
  {
   "cell_type": "code",
   "execution_count": 104,
   "id": "3a47f42d",
   "metadata": {},
   "outputs": [
    {
     "data": {
      "text/plain": [
       "macho inteiro     472471\n",
       "femea             273654\n",
       "macho castrado    214814\n",
       "Name: tipificacao, dtype: int64"
      ]
     },
     "execution_count": 104,
     "metadata": {},
     "output_type": "execute_result"
    }
   ],
   "source": [
    "df.tipificacao.value_counts()"
   ]
  },
  {
   "cell_type": "code",
   "execution_count": 105,
   "id": "740e0f6a",
   "metadata": {},
   "outputs": [],
   "source": [
    "one_hot_enc = OneHotEncoder(cols=['tipificacao'])"
   ]
  },
  {
   "cell_type": "code",
   "execution_count": 106,
   "id": "d1716445",
   "metadata": {},
   "outputs": [],
   "source": [
    "df = one_hot_enc.fit_transform(df)"
   ]
  },
  {
   "cell_type": "code",
   "execution_count": 62,
   "id": "51482ef5",
   "metadata": {},
   "outputs": [],
   "source": [
    "#df = pd.get_dummies(df, columns=['tipificacao'], prefix=['tipificacao'])"
   ]
  },
  {
   "cell_type": "markdown",
   "id": "9f4b66d4",
   "metadata": {},
   "source": [
    "### 4. Maturidade"
   ]
  },
  {
   "cell_type": "code",
   "execution_count": 107,
   "id": "e9ed8f65",
   "metadata": {},
   "outputs": [
    {
     "data": {
      "text/plain": [
       "Dois dentes       388644\n",
       "Dente de leite    330645\n",
       "Quatro dentes     176134\n",
       "Seis dentes        43001\n",
       "Oito dentes        22515\n",
       "Name: maturidade, dtype: int64"
      ]
     },
     "execution_count": 107,
     "metadata": {},
     "output_type": "execute_result"
    }
   ],
   "source": [
    "df.maturidade.value_counts()"
   ]
  },
  {
   "cell_type": "code",
   "execution_count": 108,
   "id": "6f8081af",
   "metadata": {},
   "outputs": [],
   "source": [
    "df['maturidade'].replace(['Dois dentes'], 2, inplace=True)\n",
    "df['maturidade'].replace(['Dente de leite'], 1, inplace=True)\n",
    "df['maturidade'].replace(['Quatro dentes'], 4, inplace=True)\n",
    "df['maturidade'].replace(['Seis dentes'], 6, inplace=True)\n",
    "df['maturidade'].replace(['Oito dentes'], 8, inplace=True)"
   ]
  },
  {
   "cell_type": "markdown",
   "id": "655da3cb",
   "metadata": {},
   "source": [
    "### 5. Substituindo os valores \"Não\"  e \"Sim\" por 0 e 1."
   ]
  },
  {
   "cell_type": "code",
   "execution_count": 109,
   "id": "f3ac84b5",
   "metadata": {},
   "outputs": [],
   "source": [
    "df = df.applymap(lambda x: 0 if \"Não\" in str(x) else x)\n",
    "df = df.applymap(lambda x: 0 if \"NÃO\" in str(x) else x)"
   ]
  },
  {
   "cell_type": "code",
   "execution_count": 110,
   "id": "112f9d6e",
   "metadata": {},
   "outputs": [],
   "source": [
    "df = df.applymap(lambda x: 1 if \"Sim\" in str(x) else x)\n",
    "df = df.applymap(lambda x: 1 if \"SIM\" in str(x) else x)"
   ]
  },
  {
   "cell_type": "code",
   "execution_count": 67,
   "id": "dc4fd47b",
   "metadata": {},
   "outputs": [],
   "source": [
    "selecao = pd.DataFrame(data = df, columns = ['possui_outros_ incentivo','pratica_recuperacao_pastagem','fertiirrigacao', 'ilp', 'ilpf','ifp','fabrica_racao','identificacao_individual','regua_de_manejo','bpa','participa_de_aliancas_mercadolog','boa_cobertura_vegetal_com_baixa','erosao_laminar_ou_em_sulco_igua','rastreamento_sisbov','lista_trace'])"
   ]
  },
  {
   "cell_type": "markdown",
   "id": "7c12954f",
   "metadata": {},
   "source": [
    "### 7. Acabamento"
   ]
  },
  {
   "cell_type": "code",
   "execution_count": 111,
   "id": "ba27fcad",
   "metadata": {},
   "outputs": [
    {
     "data": {
      "text/plain": [
       "gordura mediana - acima de 3 a ata 6 mm de espessura      507970\n",
       "gordura escassa - 1 a 3 mm de espessura                   389870\n",
       "gordura uniforme - acima de 6 e ata 10 mm de espessura     58115\n",
       "magra - gordura ausente                                     4767\n",
       "gordura excessiva - acima de 10 mm de espessura              217\n",
       "Name: acabamento, dtype: int64"
      ]
     },
     "execution_count": 111,
     "metadata": {},
     "output_type": "execute_result"
    }
   ],
   "source": [
    "df['acabamento'].value_counts()"
   ]
  },
  {
   "cell_type": "code",
   "execution_count": 112,
   "id": "169a3922",
   "metadata": {},
   "outputs": [],
   "source": [
    "df['acabamento'].replace(['magra - gordura ausente'], 1, inplace=True)\n",
    "df['acabamento'].replace(['gordura escassa - 1 a 3 mm de espessura'], 2, inplace=True)\n",
    "df['acabamento'].replace(['gordura mediana - acima de 3 a ata 6 mm de espessura'], 3, inplace=True)\n",
    "df['acabamento'].replace(['gordura uniforme - acima de 6 e ata 10 mm de espessura'], 4, inplace=True)\n",
    "df['acabamento'].replace(['gordura excessiva - acima de 10 mm de espessura'], 5, inplace=True)"
   ]
  },
  {
   "cell_type": "markdown",
   "id": "6a443c06",
   "metadata": {},
   "source": [
    "### 8. Categoria"
   ]
  },
  {
   "cell_type": "code",
   "execution_count": 113,
   "id": "04efac04",
   "metadata": {},
   "outputs": [
    {
     "data": {
      "text/plain": [
       "AA     332242\n",
       "AAA    203409\n",
       "BB     161431\n",
       "D      154010\n",
       "BBB     71661\n",
       "C       38186\n",
       "Name: categoria, dtype: int64"
      ]
     },
     "execution_count": 113,
     "metadata": {},
     "output_type": "execute_result"
    }
   ],
   "source": [
    "df.categoria.value_counts()"
   ]
  },
  {
   "cell_type": "code",
   "execution_count": 114,
   "id": "f3d0c013",
   "metadata": {},
   "outputs": [],
   "source": [
    "df['categoria'].replace(['AAA'], 1, inplace=True)\n",
    "df['categoria'].replace(['AA'], 2, inplace=True)\n",
    "df['categoria'].replace(['BBB'], 3, inplace=True)\n",
    "df['categoria'].replace(['BB'], 4, inplace=True)\n",
    "df['categoria'].replace(['C'], 5, inplace=True)\n",
    "df['categoria'].replace(['D'], 6, inplace=True)"
   ]
  },
  {
   "cell_type": "markdown",
   "id": "a2e3e2bc",
   "metadata": {},
   "source": [
    "### Resultado final"
   ]
  },
  {
   "cell_type": "code",
   "execution_count": 115,
   "id": "666d1232",
   "metadata": {},
   "outputs": [
    {
     "data": {
      "text/plain": [
       "(960939, 53)"
      ]
     },
     "execution_count": 115,
     "metadata": {},
     "output_type": "execute_result"
    }
   ],
   "source": [
    "df.shape"
   ]
  },
  {
   "cell_type": "code",
   "execution_count": 116,
   "id": "0d422ae1",
   "metadata": {},
   "outputs": [],
   "source": [
    "categorical_attributes = list(df.select_dtypes(include=['object']).columns)"
   ]
  },
  {
   "cell_type": "code",
   "execution_count": 117,
   "id": "58ecacbe",
   "metadata": {},
   "outputs": [
    {
     "data": {
      "text/plain": [
       "[]"
      ]
     },
     "execution_count": 117,
     "metadata": {},
     "output_type": "execute_result"
    }
   ],
   "source": [
    "categorical_attributes"
   ]
  },
  {
   "cell_type": "code",
   "execution_count": 118,
   "id": "66a92168",
   "metadata": {},
   "outputs": [],
   "source": [
    "df.to_csv(\"dadosTransformados_v1.csv\",sep=';', index = False)"
   ]
  },
  {
   "cell_type": "code",
   "execution_count": null,
   "id": "a13dd3d1",
   "metadata": {},
   "outputs": [],
   "source": []
  }
 ],
 "metadata": {
  "kernelspec": {
   "display_name": "Python 3",
   "language": "python",
   "name": "python3"
  },
  "language_info": {
   "codemirror_mode": {
    "name": "ipython",
    "version": 3
   },
   "file_extension": ".py",
   "mimetype": "text/x-python",
   "name": "python",
   "nbconvert_exporter": "python",
   "pygments_lexer": "ipython3",
   "version": "3.8.8"
  }
 },
 "nbformat": 4,
 "nbformat_minor": 5
}
