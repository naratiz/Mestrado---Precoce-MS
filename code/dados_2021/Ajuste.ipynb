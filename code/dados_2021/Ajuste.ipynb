{
 "cells": [
  {
   "cell_type": "code",
   "execution_count": 1,
   "id": "69d0eb8b",
   "metadata": {},
   "outputs": [],
   "source": [
    "import pandas as pd"
   ]
  },
  {
   "cell_type": "code",
   "execution_count": 2,
   "id": "0050d7a3",
   "metadata": {},
   "outputs": [
    {
     "name": "stderr",
     "output_type": "stream",
     "text": [
      "/home/inara/anaconda3/lib/python3.8/site-packages/IPython/core/interactiveshell.py:3165: DtypeWarning: Columns (33,34,35,36,37,38,39,40,41,42,43,44,45,46,47,112,113) have mixed types.Specify dtype option on import or set low_memory=False.\n",
      "  has_raised = await self.run_ast_nodes(code_ast.body, cell_name,\n"
     ]
    }
   ],
   "source": [
    "df = pd.read_csv('../../dados/TAB_MODELAGEM_PCTITU22-06-21.csv', encoding='ISO-8859-1', sep=';')"
   ]
  },
  {
   "cell_type": "code",
   "execution_count": 3,
   "id": "d5d7ebdc",
   "metadata": {},
   "outputs": [],
   "source": [
    "pd.set_option('display.max_columns',999)\n",
    "pd.set_option(\"display.max_rows\", 999)"
   ]
  },
  {
   "cell_type": "code",
   "execution_count": 3,
   "id": "61aedf3d",
   "metadata": {},
   "outputs": [
    {
     "data": {
      "text/html": [
       "<div>\n",
       "<style scoped>\n",
       "    .dataframe tbody tr th:only-of-type {\n",
       "        vertical-align: middle;\n",
       "    }\n",
       "\n",
       "    .dataframe tbody tr th {\n",
       "        vertical-align: top;\n",
       "    }\n",
       "\n",
       "    .dataframe thead th {\n",
       "        text-align: right;\n",
       "    }\n",
       "</style>\n",
       "<table border=\"1\" class=\"dataframe\">\n",
       "  <thead>\n",
       "    <tr style=\"text-align: right;\">\n",
       "      <th></th>\n",
       "      <th>ID_ANIMAL</th>\n",
       "      <th>EstabelecimentoMunicipio</th>\n",
       "      <th>DataAbate</th>\n",
       "      <th>EstabelecimentoIdentificador</th>\n",
       "      <th>IdentificadorLote</th>\n",
       "      <th>Tipificacao</th>\n",
       "      <th>Maturidade</th>\n",
       "      <th>Acabamento</th>\n",
       "      <th>Peso</th>\n",
       "      <th>MotivoDesclassificacao</th>\n",
       "      <th>...</th>\n",
       "      <th>cnt1m_CL_ITUinst</th>\n",
       "      <th>cnt3m_CL_ITUmax</th>\n",
       "      <th>cnt3m_CL_ITUinst</th>\n",
       "      <th>cnt6m_CL_ITUmax</th>\n",
       "      <th>cnt6m_CL_ITUinst</th>\n",
       "      <th>cnt12m_CL_ITUmax</th>\n",
       "      <th>cnt12m_CL_ITUinst</th>\n",
       "      <th>ANO</th>\n",
       "      <th>CATEGORIA</th>\n",
       "      <th>classificacao</th>\n",
       "    </tr>\n",
       "  </thead>\n",
       "  <tbody>\n",
       "    <tr>\n",
       "      <th>0</th>\n",
       "      <td>1</td>\n",
       "      <td>PARAISO DAS AGUAS</td>\n",
       "      <td>09FEB2017</td>\n",
       "      <td>1034</td>\n",
       "      <td>2</td>\n",
       "      <td>Macho INTEIRO</td>\n",
       "      <td>Dois dentes</td>\n",
       "      <td>Magra - Gordura ausente</td>\n",
       "      <td>283,00</td>\n",
       "      <td>DESCLASSIFICADO PELO ACABAMENTO</td>\n",
       "      <td>...</td>\n",
       "      <td>1,0000</td>\n",
       "      <td>0,0323</td>\n",
       "      <td>1,0000</td>\n",
       "      <td>0,0323</td>\n",
       "      <td>1,0000</td>\n",
       "      <td>0,0323</td>\n",
       "      <td>1,0000</td>\n",
       "      <td>2017</td>\n",
       "      <td>D</td>\n",
       "      <td>0</td>\n",
       "    </tr>\n",
       "    <tr>\n",
       "      <th>1</th>\n",
       "      <td>2</td>\n",
       "      <td>PARAISO DAS AGUAS</td>\n",
       "      <td>09FEB2017</td>\n",
       "      <td>1034</td>\n",
       "      <td>2</td>\n",
       "      <td>Macho CASTRADO</td>\n",
       "      <td>Quatro dentes</td>\n",
       "      <td>Gordura Mediana - acima de 3 a atÃ© 6 mm de es...</td>\n",
       "      <td>268,80</td>\n",
       "      <td>CLASSIFICADO</td>\n",
       "      <td>...</td>\n",
       "      <td>1,0000</td>\n",
       "      <td>0,0323</td>\n",
       "      <td>1,0000</td>\n",
       "      <td>0,0323</td>\n",
       "      <td>1,0000</td>\n",
       "      <td>0,0323</td>\n",
       "      <td>1,0000</td>\n",
       "      <td>2017</td>\n",
       "      <td>BBB</td>\n",
       "      <td>1</td>\n",
       "    </tr>\n",
       "    <tr>\n",
       "      <th>2</th>\n",
       "      <td>3</td>\n",
       "      <td>PARAISO DAS AGUAS</td>\n",
       "      <td>09FEB2017</td>\n",
       "      <td>1034</td>\n",
       "      <td>2</td>\n",
       "      <td>Macho CASTRADO</td>\n",
       "      <td>Dois dentes</td>\n",
       "      <td>Gordura Mediana - acima de 3 a atÃ© 6 mm de es...</td>\n",
       "      <td>282,40</td>\n",
       "      <td>CLASSIFICADO</td>\n",
       "      <td>...</td>\n",
       "      <td>1,0000</td>\n",
       "      <td>0,0323</td>\n",
       "      <td>1,0000</td>\n",
       "      <td>0,0323</td>\n",
       "      <td>1,0000</td>\n",
       "      <td>0,0323</td>\n",
       "      <td>1,0000</td>\n",
       "      <td>2017</td>\n",
       "      <td>AA</td>\n",
       "      <td>1</td>\n",
       "    </tr>\n",
       "    <tr>\n",
       "      <th>3</th>\n",
       "      <td>4</td>\n",
       "      <td>PARAISO DAS AGUAS</td>\n",
       "      <td>09FEB2017</td>\n",
       "      <td>1034</td>\n",
       "      <td>2</td>\n",
       "      <td>Macho CASTRADO</td>\n",
       "      <td>Seis dentes</td>\n",
       "      <td>Gordura Mediana - acima de 3 a atÃ© 6 mm de es...</td>\n",
       "      <td>271,40</td>\n",
       "      <td>DESCLASSIFICADO PELA MATURIDADE</td>\n",
       "      <td>...</td>\n",
       "      <td>1,0000</td>\n",
       "      <td>0,0323</td>\n",
       "      <td>1,0000</td>\n",
       "      <td>0,0323</td>\n",
       "      <td>1,0000</td>\n",
       "      <td>0,0323</td>\n",
       "      <td>1,0000</td>\n",
       "      <td>2017</td>\n",
       "      <td>D</td>\n",
       "      <td>0</td>\n",
       "    </tr>\n",
       "    <tr>\n",
       "      <th>4</th>\n",
       "      <td>5</td>\n",
       "      <td>PARAISO DAS AGUAS</td>\n",
       "      <td>09FEB2017</td>\n",
       "      <td>1034</td>\n",
       "      <td>2</td>\n",
       "      <td>Macho CASTRADO</td>\n",
       "      <td>Dois dentes</td>\n",
       "      <td>Gordura Escassa - 1 a 3 mm de espessura</td>\n",
       "      <td>275,20</td>\n",
       "      <td>CLASSIFICADO</td>\n",
       "      <td>...</td>\n",
       "      <td>1,0000</td>\n",
       "      <td>0,0323</td>\n",
       "      <td>1,0000</td>\n",
       "      <td>0,0323</td>\n",
       "      <td>1,0000</td>\n",
       "      <td>0,0323</td>\n",
       "      <td>1,0000</td>\n",
       "      <td>2017</td>\n",
       "      <td>BB</td>\n",
       "      <td>1</td>\n",
       "    </tr>\n",
       "  </tbody>\n",
       "</table>\n",
       "<p>5 rows × 125 columns</p>\n",
       "</div>"
      ],
      "text/plain": [
       "   ID_ANIMAL EstabelecimentoMunicipio  DataAbate  \\\n",
       "0          1        PARAISO DAS AGUAS  09FEB2017   \n",
       "1          2        PARAISO DAS AGUAS  09FEB2017   \n",
       "2          3        PARAISO DAS AGUAS  09FEB2017   \n",
       "3          4        PARAISO DAS AGUAS  09FEB2017   \n",
       "4          5        PARAISO DAS AGUAS  09FEB2017   \n",
       "\n",
       "   EstabelecimentoIdentificador  IdentificadorLote     Tipificacao  \\\n",
       "0                          1034                  2   Macho INTEIRO   \n",
       "1                          1034                  2  Macho CASTRADO   \n",
       "2                          1034                  2  Macho CASTRADO   \n",
       "3                          1034                  2  Macho CASTRADO   \n",
       "4                          1034                  2  Macho CASTRADO   \n",
       "\n",
       "      Maturidade                                         Acabamento    Peso  \\\n",
       "0    Dois dentes                            Magra - Gordura ausente  283,00   \n",
       "1  Quatro dentes  Gordura Mediana - acima de 3 a atÃ© 6 mm de es...  268,80   \n",
       "2    Dois dentes  Gordura Mediana - acima de 3 a atÃ© 6 mm de es...  282,40   \n",
       "3    Seis dentes  Gordura Mediana - acima de 3 a atÃ© 6 mm de es...  271,40   \n",
       "4    Dois dentes            Gordura Escassa - 1 a 3 mm de espessura  275,20   \n",
       "\n",
       "            MotivoDesclassificacao  ...  cnt1m_CL_ITUinst cnt3m_CL_ITUmax  \\\n",
       "0  DESCLASSIFICADO PELO ACABAMENTO  ...            1,0000          0,0323   \n",
       "1                     CLASSIFICADO  ...            1,0000          0,0323   \n",
       "2                     CLASSIFICADO  ...            1,0000          0,0323   \n",
       "3  DESCLASSIFICADO PELA MATURIDADE  ...            1,0000          0,0323   \n",
       "4                     CLASSIFICADO  ...            1,0000          0,0323   \n",
       "\n",
       "  cnt3m_CL_ITUinst cnt6m_CL_ITUmax cnt6m_CL_ITUinst cnt12m_CL_ITUmax  \\\n",
       "0           1,0000          0,0323           1,0000           0,0323   \n",
       "1           1,0000          0,0323           1,0000           0,0323   \n",
       "2           1,0000          0,0323           1,0000           0,0323   \n",
       "3           1,0000          0,0323           1,0000           0,0323   \n",
       "4           1,0000          0,0323           1,0000           0,0323   \n",
       "\n",
       "  cnt12m_CL_ITUinst   ANO CATEGORIA classificacao  \n",
       "0            1,0000  2017         D             0  \n",
       "1            1,0000  2017       BBB             1  \n",
       "2            1,0000  2017        AA             1  \n",
       "3            1,0000  2017         D             0  \n",
       "4            1,0000  2017        BB             1  \n",
       "\n",
       "[5 rows x 125 columns]"
      ]
     },
     "execution_count": 3,
     "metadata": {},
     "output_type": "execute_result"
    }
   ],
   "source": [
    "df.head()"
   ]
  },
  {
   "cell_type": "markdown",
   "id": "17faa2c7",
   "metadata": {},
   "source": [
    "## Conversão dos dados para float\n",
    "<p>Alguns dados númericos estão como object, exemplo atributo peso.</p>"
   ]
  },
  {
   "cell_type": "code",
   "execution_count": 5,
   "id": "19d37687",
   "metadata": {},
   "outputs": [],
   "source": [
    "colunas_para_conversao = ['Peso','med7d_TempInst', 'med7d_TempMax', 'med7d_TempMin', 'med7d_UmidInst', 'med7d_UmidMax', 'med7d_UmidMin', 'med7d_VelVentoMax', 'med7d_formITUinst', 'med7d_formITUmax', 'med7d_NUM_PIXELS', 'med7d_NDVI', 'med7d_EVI', 'med7d_preR_soja', 'med7d_preR_milho', 'med7d_preR_boi', 'tot1m_Chuva', 'med1m_TempInst', 'med1m_TempMax', 'med1m_TempMin', 'med1m_UmidInst', 'med1m_UmidMax', 'med1m_UmidMin', 'med1m_VelVentoMax', 'med1m_formITUinst', 'med1m_formITUmax', 'med1m_NUM_PIXELS', 'med1m_NDVI', 'med1m_EVI', 'med1m_preR_soja', 'med1m_preR_milho', 'med1m_preR_boi', 'tot3m_Chuva', 'med3m_TempInst', 'med3m_TempMax', 'med3m_TempMin', 'med3m_UmidInst', 'med3m_UmidMax', 'med3m_UmidMin', 'med3m_VelVentoMax', 'med3m_formITUinst', 'med3m_formITUmax', 'med3m_NUM_PIXELS', 'med3m_NDVI', 'med3m_EVI', 'med3m_preR_soja', 'med3m_preR_milho', 'med3m_preR_boi', 'tot6m_Chuva', 'med6m_TempInst', 'med6m_TempMax', 'med6m_TempMin', 'med6m_UmidInst', 'med6m_UmidMax', 'med6m_UmidMin', 'med6m_VelVentoMax', 'med6m_formITUinst', 'med6m_formITUmax', 'med6m_NUM_PIXELS', 'med6m_NDVI', 'med6m_EVI', 'med6m_preR_soja', 'med6m_preR_milho', 'med6m_preR_boi', 'tot12m_Chuva', 'med12m_TempInst', 'med12m_TempMax', 'med12m_TempMin', 'med12m_UmidInst', 'med12m_UmidMax', 'med12m_UmidMin', 'med12m_VelVentoMax', 'med12m_formITUinst', 'med12m_formITUmax', 'med12m_NUM_PIXELS', 'med12m_NDVI', 'med12m_EVI', 'med12m_preR_soja', 'med12m_preR_milho', 'med12m_preR_boi', 'cnt7d_CL_ITUmax', 'cnt7d_CL_ITUinst', 'cnt1m_CL_ITUmax', 'cnt1m_CL_ITUinst', 'cnt3m_CL_ITUmax', 'cnt3m_CL_ITUinst', 'cnt6m_CL_ITUmax', 'cnt6m_CL_ITUinst', 'cnt12m_CL_ITUmax', 'cnt12m_CL_ITUinst']"
   ]
  },
  {
   "cell_type": "code",
   "execution_count": 6,
   "id": "dbc30ad9",
   "metadata": {},
   "outputs": [],
   "source": [
    "for cc in colunas_para_conversao:\n",
    "    df[cc] = df[cc].str.replace(',','.').astype(float)"
   ]
  },
  {
   "cell_type": "code",
   "execution_count": 7,
   "id": "a5217330",
   "metadata": {},
   "outputs": [
    {
     "name": "stdout",
     "output_type": "stream",
     "text": [
      "<class 'pandas.core.frame.DataFrame'>\n",
      "RangeIndex: 1107689 entries, 0 to 1107688\n",
      "Data columns (total 125 columns):\n",
      " #    Column                            Dtype  \n",
      "---   ------                            -----  \n",
      " 0    ID_ANIMAL                         int64  \n",
      " 1    EstabelecimentoMunicipio          object \n",
      " 2    DataAbate                         object \n",
      " 3    EstabelecimentoIdentificador      int64  \n",
      " 4    IdentificadorLote                 int64  \n",
      " 5    Tipificacao                       object \n",
      " 6    Maturidade                        object \n",
      " 7    Acabamento                        object \n",
      " 8    Peso                              float64\n",
      " 9    MotivoDesclassificacao            object \n",
      " 10   QuestionarioClassificacaoEstabel  float64\n",
      " 11   QuestionarioPossuiOutrosIncentiv  object \n",
      " 12   QuestionarioPraticaRecuperacaoPa  object \n",
      " 13   FERTIIRRIGACAO                    object \n",
      " 14   ILP                               object \n",
      " 15   ILPF                              object \n",
      " 16   IFP                               object \n",
      " 17   QuestionarioFabricaRacao          object \n",
      " 18   identificacao individual          object \n",
      " 19   regua de manejo                   object \n",
      " 20   BPA                               object \n",
      " 21   participa de aliancas mercadolog  object \n",
      " 22   qual alianca                      object \n",
      " 23   boa cobertura vegetal, com baixa  object \n",
      " 24   erosaoo laminar ou em sulco igua  object \n",
      " 25   rastreamento SISBOV               object \n",
      " 26   Lista Trace                       object \n",
      " 27   data12m                           object \n",
      " 28   data6m                            object \n",
      " 29   data3m                            object \n",
      " 30   data1m                            object \n",
      " 31   data7d                            object \n",
      " 32   tot7d_Chuva                       float64\n",
      " 33   med7d_TempInst                    float64\n",
      " 34   med7d_TempMax                     float64\n",
      " 35   med7d_TempMin                     float64\n",
      " 36   med7d_UmidInst                    float64\n",
      " 37   med7d_UmidMax                     float64\n",
      " 38   med7d_UmidMin                     float64\n",
      " 39   med7d_VelVentoMax                 float64\n",
      " 40   med7d_formITUinst                 float64\n",
      " 41   med7d_formITUmax                  float64\n",
      " 42   med7d_NUM_PIXELS                  float64\n",
      " 43   med7d_NDVI                        float64\n",
      " 44   med7d_EVI                         float64\n",
      " 45   med7d_preR_soja                   float64\n",
      " 46   med7d_preR_milho                  float64\n",
      " 47   med7d_preR_boi                    float64\n",
      " 48   tot1m_Chuva                       float64\n",
      " 49   med1m_TempInst                    float64\n",
      " 50   med1m_TempMax                     float64\n",
      " 51   med1m_TempMin                     float64\n",
      " 52   med1m_UmidInst                    float64\n",
      " 53   med1m_UmidMax                     float64\n",
      " 54   med1m_UmidMin                     float64\n",
      " 55   med1m_VelVentoMax                 float64\n",
      " 56   med1m_formITUinst                 float64\n",
      " 57   med1m_formITUmax                  float64\n",
      " 58   med1m_NUM_PIXELS                  float64\n",
      " 59   med1m_NDVI                        float64\n",
      " 60   med1m_EVI                         float64\n",
      " 61   med1m_preR_soja                   float64\n",
      " 62   med1m_preR_milho                  float64\n",
      " 63   med1m_preR_boi                    float64\n",
      " 64   tot3m_Chuva                       float64\n",
      " 65   med3m_TempInst                    float64\n",
      " 66   med3m_TempMax                     float64\n",
      " 67   med3m_TempMin                     float64\n",
      " 68   med3m_UmidInst                    float64\n",
      " 69   med3m_UmidMax                     float64\n",
      " 70   med3m_UmidMin                     float64\n",
      " 71   med3m_VelVentoMax                 float64\n",
      " 72   med3m_formITUinst                 float64\n",
      " 73   med3m_formITUmax                  float64\n",
      " 74   med3m_NUM_PIXELS                  float64\n",
      " 75   med3m_NDVI                        float64\n",
      " 76   med3m_EVI                         float64\n",
      " 77   med3m_preR_soja                   float64\n",
      " 78   med3m_preR_milho                  float64\n",
      " 79   med3m_preR_boi                    float64\n",
      " 80   tot6m_Chuva                       float64\n",
      " 81   med6m_TempInst                    float64\n",
      " 82   med6m_TempMax                     float64\n",
      " 83   med6m_TempMin                     float64\n",
      " 84   med6m_UmidInst                    float64\n",
      " 85   med6m_UmidMax                     float64\n",
      " 86   med6m_UmidMin                     float64\n",
      " 87   med6m_VelVentoMax                 float64\n",
      " 88   med6m_formITUinst                 float64\n",
      " 89   med6m_formITUmax                  float64\n",
      " 90   med6m_NUM_PIXELS                  float64\n",
      " 91   med6m_NDVI                        float64\n",
      " 92   med6m_EVI                         float64\n",
      " 93   med6m_preR_soja                   float64\n",
      " 94   med6m_preR_milho                  float64\n",
      " 95   med6m_preR_boi                    float64\n",
      " 96   tot12m_Chuva                      float64\n",
      " 97   med12m_TempInst                   float64\n",
      " 98   med12m_TempMax                    float64\n",
      " 99   med12m_TempMin                    float64\n",
      " 100  med12m_UmidInst                   float64\n",
      " 101  med12m_UmidMax                    float64\n",
      " 102  med12m_UmidMin                    float64\n",
      " 103  med12m_VelVentoMax                float64\n",
      " 104  med12m_formITUinst                float64\n",
      " 105  med12m_formITUmax                 float64\n",
      " 106  med12m_NUM_PIXELS                 float64\n",
      " 107  med12m_NDVI                       float64\n",
      " 108  med12m_EVI                        float64\n",
      " 109  med12m_preR_soja                  float64\n",
      " 110  med12m_preR_milho                 float64\n",
      " 111  med12m_preR_boi                   float64\n",
      " 112  cnt7d_CL_ITUmax                   float64\n",
      " 113  cnt7d_CL_ITUinst                  float64\n",
      " 114  cnt1m_CL_ITUmax                   float64\n",
      " 115  cnt1m_CL_ITUinst                  float64\n",
      " 116  cnt3m_CL_ITUmax                   float64\n",
      " 117  cnt3m_CL_ITUinst                  float64\n",
      " 118  cnt6m_CL_ITUmax                   float64\n",
      " 119  cnt6m_CL_ITUinst                  float64\n",
      " 120  cnt12m_CL_ITUmax                  float64\n",
      " 121  cnt12m_CL_ITUinst                 float64\n",
      " 122  ANO                               int64  \n",
      " 123  CATEGORIA                         object \n",
      " 124  classificacao                     int64  \n",
      "dtypes: float64(92), int64(5), object(28)\n",
      "memory usage: 1.0+ GB\n"
     ]
    }
   ],
   "source": [
    "df.info(verbose=True)"
   ]
  },
  {
   "cell_type": "markdown",
   "id": "d50770ea",
   "metadata": {},
   "source": [
    "## Ajuste nomes das colunas\n",
    "  <p> Padrão letras minúsculas separadas por '_', sem espaços em branco </p>"
   ]
  },
  {
   "cell_type": "code",
   "execution_count": 8,
   "id": "ec5babc9",
   "metadata": {},
   "outputs": [],
   "source": [
    "df.columns = df.columns.str.lower().str.replace(' ', '_')"
   ]
  },
  {
   "cell_type": "code",
   "execution_count": 13,
   "id": "97383471",
   "metadata": {},
   "outputs": [],
   "source": [
    "novos_nomes_colunas = { 'estabelecimentomunicipio': 'estabelecimento_municipio', \n",
    "                        'dataabate':'data_abate',\n",
    "                        'estabelecimentoidentificador':'estabelecimento_identificador',\n",
    "                        'identificadorlote':'identificador_lote',\n",
    "                        'motivodesclassificacao':'motivo_desclassificacao', \n",
    "                        'questionarioclassificacaoestabel': 'classificacao_estabelecimento', \n",
    "                        'questionariopossuioutrosincentiv': 'outros_incentivos', \n",
    "                        'questionariopraticarecuperacaopa': 'pratica_recuperacao_pastagem',\n",
    "                        'questionariofabricaracao': 'fabrica_racao',\n",
    "                        'participa_de_aliancas_mercadolog': 'participa_aliancas_mercadologicas',\n",
    "                        'boa_cobertura_vegetal,_com_baixa': 'boa_cobertura_vegetal',\n",
    "                        'erosaoo_laminar_ou_em_sulco_igua': 'erosao_laminar_ou_sulco_20'\n",
    "                      }"
   ]
  },
  {
   "cell_type": "code",
   "execution_count": 16,
   "id": "0cb7bfe2",
   "metadata": {},
   "outputs": [],
   "source": [
    "df.rename(columns=novos_nomes_colunas, inplace=True)"
   ]
  },
  {
   "cell_type": "code",
   "execution_count": 17,
   "id": "a3e0034e",
   "metadata": {},
   "outputs": [
    {
     "name": "stdout",
     "output_type": "stream",
     "text": [
      "['id_animal', 'estabelecimento_municipio', 'data_abate', 'estabelecimento_identificador', 'identificador_lote', 'tipificacao', 'maturidade', 'acabamento', 'peso', 'motivo_desclassificacao', 'classificacao_estabelecimento', 'outros_incentivos', 'pratica_recuperacao_pastagem', 'fertiirrigacao', 'ilp', 'ilpf', 'ifp', 'fabrica_racao', 'identificacao_individual', 'regua_de_manejo', 'bpa', 'participa_aliancas_mercadologicas', 'qual_alianca', 'boa_cobertura_vegetal', 'erosao_laminar_ou_sulco_20', 'rastreamento_sisbov', 'lista_trace', 'data12m', 'data6m', 'data3m', 'data1m', 'data7d', 'tot7d_chuva', 'med7d_tempinst', 'med7d_tempmax', 'med7d_tempmin', 'med7d_umidinst', 'med7d_umidmax', 'med7d_umidmin', 'med7d_velventomax', 'med7d_formituinst', 'med7d_formitumax', 'med7d_num_pixels', 'med7d_ndvi', 'med7d_evi', 'med7d_prer_soja', 'med7d_prer_milho', 'med7d_prer_boi', 'tot1m_chuva', 'med1m_tempinst', 'med1m_tempmax', 'med1m_tempmin', 'med1m_umidinst', 'med1m_umidmax', 'med1m_umidmin', 'med1m_velventomax', 'med1m_formituinst', 'med1m_formitumax', 'med1m_num_pixels', 'med1m_ndvi', 'med1m_evi', 'med1m_prer_soja', 'med1m_prer_milho', 'med1m_prer_boi', 'tot3m_chuva', 'med3m_tempinst', 'med3m_tempmax', 'med3m_tempmin', 'med3m_umidinst', 'med3m_umidmax', 'med3m_umidmin', 'med3m_velventomax', 'med3m_formituinst', 'med3m_formitumax', 'med3m_num_pixels', 'med3m_ndvi', 'med3m_evi', 'med3m_prer_soja', 'med3m_prer_milho', 'med3m_prer_boi', 'tot6m_chuva', 'med6m_tempinst', 'med6m_tempmax', 'med6m_tempmin', 'med6m_umidinst', 'med6m_umidmax', 'med6m_umidmin', 'med6m_velventomax', 'med6m_formituinst', 'med6m_formitumax', 'med6m_num_pixels', 'med6m_ndvi', 'med6m_evi', 'med6m_prer_soja', 'med6m_prer_milho', 'med6m_prer_boi', 'tot12m_chuva', 'med12m_tempinst', 'med12m_tempmax', 'med12m_tempmin', 'med12m_umidinst', 'med12m_umidmax', 'med12m_umidmin', 'med12m_velventomax', 'med12m_formituinst', 'med12m_formitumax', 'med12m_num_pixels', 'med12m_ndvi', 'med12m_evi', 'med12m_prer_soja', 'med12m_prer_milho', 'med12m_prer_boi', 'cnt7d_cl_itumax', 'cnt7d_cl_ituinst', 'cnt1m_cl_itumax', 'cnt1m_cl_ituinst', 'cnt3m_cl_itumax', 'cnt3m_cl_ituinst', 'cnt6m_cl_itumax', 'cnt6m_cl_ituinst', 'cnt12m_cl_itumax', 'cnt12m_cl_ituinst', 'ano', 'categoria', 'classificacao']\n"
     ]
    }
   ],
   "source": [
    "print(df.columns.tolist())"
   ]
  },
  {
   "cell_type": "markdown",
   "id": "fc9caa6b",
   "metadata": {},
   "source": [
    "### Transformação dos dados com caracteres especiais"
   ]
  },
  {
   "cell_type": "code",
   "execution_count": 18,
   "id": "416cf60b",
   "metadata": {},
   "outputs": [],
   "source": [
    "df.acabamento = df.acabamento.str.normalize('NFD').str.encode('ascii', errors='ignore').str.decode('utf-8').str.lower()"
   ]
  },
  {
   "cell_type": "code",
   "execution_count": 19,
   "id": "4262b965",
   "metadata": {},
   "outputs": [],
   "source": [
    "df.tipificacao = df.tipificacao.str.normalize('NFD').str.encode('ascii', errors='ignore').str.decode('utf-8').str.lower()"
   ]
  },
  {
   "cell_type": "code",
   "execution_count": 22,
   "id": "3c3d13bc",
   "metadata": {},
   "outputs": [
    {
     "data": {
      "text/plain": [
       "macho inteiro     528127\n",
       "femea             324069\n",
       "macho castrado    255493\n",
       "Name: tipificacao, dtype: int64"
      ]
     },
     "execution_count": 22,
     "metadata": {},
     "output_type": "execute_result"
    }
   ],
   "source": [
    "df.tipificacao.value_counts()"
   ]
  },
  {
   "cell_type": "code",
   "execution_count": 21,
   "id": "3e97d34b",
   "metadata": {},
   "outputs": [],
   "source": [
    "df['tipificacao'].replace(['famea'], 'femea', inplace=True)\n"
   ]
  },
  {
   "cell_type": "code",
   "execution_count": 23,
   "id": "32a75f6a",
   "metadata": {},
   "outputs": [
    {
     "data": {
      "text/plain": [
       "gordura mediana - acima de 3 a ata 6 mm de espessura      590250\n",
       "gordura escassa - 1 a 3 mm de espessura                   443365\n",
       "gordura uniforme - acima de 6 e ata 10 mm de espessura     68315\n",
       "magra - gordura ausente                                     5490\n",
       "gordura excessiva - acima de 10 mm de espessura              269\n",
       "Name: acabamento, dtype: int64"
      ]
     },
     "execution_count": 23,
     "metadata": {},
     "output_type": "execute_result"
    }
   ],
   "source": [
    "df.acabamento.value_counts()"
   ]
  },
  {
   "cell_type": "markdown",
   "id": "7449a791",
   "metadata": {},
   "source": [
    "###  Exportando CSV"
   ]
  },
  {
   "cell_type": "code",
   "execution_count": 24,
   "id": "7862a75e",
   "metadata": {},
   "outputs": [],
   "source": [
    "df.to_csv(\"dadosCompletos.csv\",sep=';', index = False)"
   ]
  },
  {
   "cell_type": "code",
   "execution_count": null,
   "id": "d1570b50",
   "metadata": {},
   "outputs": [],
   "source": []
  }
 ],
 "metadata": {
  "kernelspec": {
   "display_name": "Python 3",
   "language": "python",
   "name": "python3"
  },
  "language_info": {
   "codemirror_mode": {
    "name": "ipython",
    "version": 3
   },
   "file_extension": ".py",
   "mimetype": "text/x-python",
   "name": "python",
   "nbconvert_exporter": "python",
   "pygments_lexer": "ipython3",
   "version": "3.8.8"
  }
 },
 "nbformat": 4,
 "nbformat_minor": 5
}
