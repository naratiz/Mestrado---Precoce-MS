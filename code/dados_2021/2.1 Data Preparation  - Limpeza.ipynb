{
 "cells": [
  {
   "cell_type": "code",
   "execution_count": 38,
   "id": "b2a4d64c",
   "metadata": {},
   "outputs": [],
   "source": [
    "import pandas as pd\n",
    "import seaborn as sns\n",
    "import numpy as np\n",
    "import datetime"
   ]
  },
  {
   "cell_type": "code",
   "execution_count": 39,
   "id": "8293507c",
   "metadata": {},
   "outputs": [],
   "source": [
    "import warnings\n",
    "warnings.simplefilter(action='ignore', category=FutureWarning)"
   ]
  },
  {
   "cell_type": "code",
   "execution_count": 40,
   "id": "131317b9",
   "metadata": {},
   "outputs": [],
   "source": [
    "df = pd.read_csv('../../dados/dadosCompletos_2021.csv', sep=';')"
   ]
  },
  {
   "cell_type": "code",
   "execution_count": 41,
   "id": "41c3d4a9",
   "metadata": {},
   "outputs": [],
   "source": [
    "pd.set_option('display.max_columns',999)\n",
    "pd.set_option(\"display.max_rows\", 999)"
   ]
  },
  {
   "cell_type": "code",
   "execution_count": 42,
   "id": "9cc77a8c",
   "metadata": {},
   "outputs": [
    {
     "data": {
      "text/plain": [
       "(1107689, 125)"
      ]
     },
     "execution_count": 42,
     "metadata": {},
     "output_type": "execute_result"
    }
   ],
   "source": [
    "df.shape"
   ]
  },
  {
   "cell_type": "code",
   "execution_count": 43,
   "id": "ba208090",
   "metadata": {},
   "outputs": [
    {
     "name": "stdout",
     "output_type": "stream",
     "text": [
      "['id_animal', 'estabelecimento_municipio', 'data_abate', 'estabelecimento_identificador', 'identificador_lote', 'tipificacao', 'maturidade', 'acabamento', 'peso', 'motivo_desclassificacao', 'classificacao_estabelecimento', 'outros_incentivos', 'pratica_recuperacao_pastagem', 'fertiirrigacao', 'ilp', 'ilpf', 'ifp', 'fabrica_racao', 'identificacao_individual', 'regua_de_manejo', 'bpa', 'participa_aliancas_mercadologicas', 'qual_alianca', 'boa_cobertura_vegetal', 'erosao_laminar_ou_sulco_20', 'rastreamento_sisbov', 'lista_trace', 'data12m', 'data6m', 'data3m', 'data1m', 'data7d', 'tot7d_chuva', 'med7d_tempinst', 'med7d_tempmax', 'med7d_tempmin', 'med7d_umidinst', 'med7d_umidmax', 'med7d_umidmin', 'med7d_velventomax', 'med7d_formituinst', 'med7d_formitumax', 'med7d_num_pixels', 'med7d_ndvi', 'med7d_evi', 'med7d_prer_soja', 'med7d_prer_milho', 'med7d_prer_boi', 'tot1m_chuva', 'med1m_tempinst', 'med1m_tempmax', 'med1m_tempmin', 'med1m_umidinst', 'med1m_umidmax', 'med1m_umidmin', 'med1m_velventomax', 'med1m_formituinst', 'med1m_formitumax', 'med1m_num_pixels', 'med1m_ndvi', 'med1m_evi', 'med1m_prer_soja', 'med1m_prer_milho', 'med1m_prer_boi', 'tot3m_chuva', 'med3m_tempinst', 'med3m_tempmax', 'med3m_tempmin', 'med3m_umidinst', 'med3m_umidmax', 'med3m_umidmin', 'med3m_velventomax', 'med3m_formituinst', 'med3m_formitumax', 'med3m_num_pixels', 'med3m_ndvi', 'med3m_evi', 'med3m_prer_soja', 'med3m_prer_milho', 'med3m_prer_boi', 'tot6m_chuva', 'med6m_tempinst', 'med6m_tempmax', 'med6m_tempmin', 'med6m_umidinst', 'med6m_umidmax', 'med6m_umidmin', 'med6m_velventomax', 'med6m_formituinst', 'med6m_formitumax', 'med6m_num_pixels', 'med6m_ndvi', 'med6m_evi', 'med6m_prer_soja', 'med6m_prer_milho', 'med6m_prer_boi', 'tot12m_chuva', 'med12m_tempinst', 'med12m_tempmax', 'med12m_tempmin', 'med12m_umidinst', 'med12m_umidmax', 'med12m_umidmin', 'med12m_velventomax', 'med12m_formituinst', 'med12m_formitumax', 'med12m_num_pixels', 'med12m_ndvi', 'med12m_evi', 'med12m_prer_soja', 'med12m_prer_milho', 'med12m_prer_boi', 'cnt7d_cl_itumax', 'cnt7d_cl_ituinst', 'cnt1m_cl_itumax', 'cnt1m_cl_ituinst', 'cnt3m_cl_itumax', 'cnt3m_cl_ituinst', 'cnt6m_cl_itumax', 'cnt6m_cl_ituinst', 'cnt12m_cl_itumax', 'cnt12m_cl_ituinst', 'ano', 'categoria', 'classificacao']\n"
     ]
    }
   ],
   "source": [
    "print(df.columns.tolist())"
   ]
  },
  {
   "cell_type": "code",
   "execution_count": 44,
   "id": "c22e5cf2",
   "metadata": {},
   "outputs": [
    {
     "data": {
      "text/plain": [
       "id_animal                              int64\n",
       "estabelecimento_municipio             object\n",
       "data_abate                            object\n",
       "estabelecimento_identificador          int64\n",
       "identificador_lote                     int64\n",
       "tipificacao                           object\n",
       "maturidade                            object\n",
       "acabamento                            object\n",
       "peso                                 float64\n",
       "motivo_desclassificacao               object\n",
       "classificacao_estabelecimento        float64\n",
       "outros_incentivos                     object\n",
       "pratica_recuperacao_pastagem          object\n",
       "fertiirrigacao                        object\n",
       "ilp                                   object\n",
       "ilpf                                  object\n",
       "ifp                                   object\n",
       "fabrica_racao                         object\n",
       "identificacao_individual              object\n",
       "regua_de_manejo                       object\n",
       "bpa                                   object\n",
       "participa_aliancas_mercadologicas     object\n",
       "qual_alianca                          object\n",
       "boa_cobertura_vegetal                 object\n",
       "erosao_laminar_ou_sulco_20            object\n",
       "rastreamento_sisbov                   object\n",
       "lista_trace                           object\n",
       "data12m                               object\n",
       "data6m                                object\n",
       "data3m                                object\n",
       "data1m                                object\n",
       "data7d                                object\n",
       "tot7d_chuva                          float64\n",
       "med7d_tempinst                       float64\n",
       "med7d_tempmax                        float64\n",
       "med7d_tempmin                        float64\n",
       "med7d_umidinst                       float64\n",
       "med7d_umidmax                        float64\n",
       "med7d_umidmin                        float64\n",
       "med7d_velventomax                    float64\n",
       "med7d_formituinst                    float64\n",
       "med7d_formitumax                     float64\n",
       "med7d_num_pixels                     float64\n",
       "med7d_ndvi                           float64\n",
       "med7d_evi                            float64\n",
       "med7d_prer_soja                      float64\n",
       "med7d_prer_milho                     float64\n",
       "med7d_prer_boi                       float64\n",
       "tot1m_chuva                          float64\n",
       "med1m_tempinst                       float64\n",
       "med1m_tempmax                        float64\n",
       "med1m_tempmin                        float64\n",
       "med1m_umidinst                       float64\n",
       "med1m_umidmax                        float64\n",
       "med1m_umidmin                        float64\n",
       "med1m_velventomax                    float64\n",
       "med1m_formituinst                    float64\n",
       "med1m_formitumax                     float64\n",
       "med1m_num_pixels                     float64\n",
       "med1m_ndvi                           float64\n",
       "med1m_evi                            float64\n",
       "med1m_prer_soja                      float64\n",
       "med1m_prer_milho                     float64\n",
       "med1m_prer_boi                       float64\n",
       "tot3m_chuva                          float64\n",
       "med3m_tempinst                       float64\n",
       "med3m_tempmax                        float64\n",
       "med3m_tempmin                        float64\n",
       "med3m_umidinst                       float64\n",
       "med3m_umidmax                        float64\n",
       "med3m_umidmin                        float64\n",
       "med3m_velventomax                    float64\n",
       "med3m_formituinst                    float64\n",
       "med3m_formitumax                     float64\n",
       "med3m_num_pixels                     float64\n",
       "med3m_ndvi                           float64\n",
       "med3m_evi                            float64\n",
       "med3m_prer_soja                      float64\n",
       "med3m_prer_milho                     float64\n",
       "med3m_prer_boi                       float64\n",
       "tot6m_chuva                          float64\n",
       "med6m_tempinst                       float64\n",
       "med6m_tempmax                        float64\n",
       "med6m_tempmin                        float64\n",
       "med6m_umidinst                       float64\n",
       "med6m_umidmax                        float64\n",
       "med6m_umidmin                        float64\n",
       "med6m_velventomax                    float64\n",
       "med6m_formituinst                    float64\n",
       "med6m_formitumax                     float64\n",
       "med6m_num_pixels                     float64\n",
       "med6m_ndvi                           float64\n",
       "med6m_evi                            float64\n",
       "med6m_prer_soja                      float64\n",
       "med6m_prer_milho                     float64\n",
       "med6m_prer_boi                       float64\n",
       "tot12m_chuva                         float64\n",
       "med12m_tempinst                      float64\n",
       "med12m_tempmax                       float64\n",
       "med12m_tempmin                       float64\n",
       "med12m_umidinst                      float64\n",
       "med12m_umidmax                       float64\n",
       "med12m_umidmin                       float64\n",
       "med12m_velventomax                   float64\n",
       "med12m_formituinst                   float64\n",
       "med12m_formitumax                    float64\n",
       "med12m_num_pixels                    float64\n",
       "med12m_ndvi                          float64\n",
       "med12m_evi                           float64\n",
       "med12m_prer_soja                     float64\n",
       "med12m_prer_milho                    float64\n",
       "med12m_prer_boi                      float64\n",
       "cnt7d_cl_itumax                      float64\n",
       "cnt7d_cl_ituinst                     float64\n",
       "cnt1m_cl_itumax                      float64\n",
       "cnt1m_cl_ituinst                     float64\n",
       "cnt3m_cl_itumax                      float64\n",
       "cnt3m_cl_ituinst                     float64\n",
       "cnt6m_cl_itumax                      float64\n",
       "cnt6m_cl_ituinst                     float64\n",
       "cnt12m_cl_itumax                     float64\n",
       "cnt12m_cl_ituinst                    float64\n",
       "ano                                    int64\n",
       "categoria                             object\n",
       "classificacao                          int64\n",
       "dtype: object"
      ]
     },
     "execution_count": 44,
     "metadata": {},
     "output_type": "execute_result"
    }
   ],
   "source": [
    "df.dtypes"
   ]
  },
  {
   "cell_type": "code",
   "execution_count": 45,
   "id": "041eb6b4",
   "metadata": {},
   "outputs": [
    {
     "data": {
      "text/plain": [
       "(1107689, 125)"
      ]
     },
     "execution_count": 45,
     "metadata": {},
     "output_type": "execute_result"
    }
   ],
   "source": [
    "df.shape"
   ]
  },
  {
   "cell_type": "markdown",
   "id": "0e66e143",
   "metadata": {},
   "source": [
    "## 1. Característica Alvo"
   ]
  },
  {
   "cell_type": "code",
   "execution_count": 46,
   "id": "83d255d9",
   "metadata": {},
   "outputs": [
    {
     "data": {
      "text/plain": [
       "AA     381558\n",
       "AAA    231793\n",
       "BB     182830\n",
       "D      182108\n",
       "BBB     85432\n",
       "C       43968\n",
       "Name: categoria, dtype: int64"
      ]
     },
     "execution_count": 46,
     "metadata": {},
     "output_type": "execute_result"
    }
   ],
   "source": [
    "df.categoria.value_counts()"
   ]
  },
  {
   "cell_type": "markdown",
   "id": "89b5b09d",
   "metadata": {},
   "source": [
    "### Identificadores"
   ]
  },
  {
   "cell_type": "markdown",
   "id": "bcf3cba6",
   "metadata": {},
   "source": [
    "<p style=\"color:#1155cc\">Características que representam identificadores pois não contribuem para o processo de aprendizado de máquina.</p>"
   ]
  },
  {
   "cell_type": "code",
   "execution_count": 47,
   "id": "5303e718",
   "metadata": {},
   "outputs": [],
   "source": [
    "df.drop(['id_animal', 'estabelecimento_identificador', 'identificador_lote'], axis='columns', inplace = True)"
   ]
  },
  {
   "cell_type": "markdown",
   "id": "8dba66ed",
   "metadata": {},
   "source": [
    "## 2. Exclusão de características"
   ]
  },
  {
   "cell_type": "markdown",
   "id": "d5b42ad4",
   "metadata": {},
   "source": [
    "### 2.1 Exclusão dos dados referentes a 7 dias"
   ]
  },
  {
   "cell_type": "markdown",
   "id": "762844a4",
   "metadata": {},
   "source": [
    "<p style=\"color:#1155cc\">A média das váriáveis climáticas, vegetais e de comodities referente a 7 dias, pois 7 foi considerado um período muito curto para obtermos informações relevantes.</p>"
   ]
  },
  {
   "cell_type": "code",
   "execution_count": 48,
   "id": "10d7195f",
   "metadata": {},
   "outputs": [],
   "source": [
    "df = df.drop([\n",
    "              'data7d', 'tot7d_chuva', 'med7d_tempinst', 'med7d_tempmax', 'med7d_tempmin', 'med7d_umidinst', \n",
    "              'med7d_umidmax', 'med7d_umidmin', 'med7d_velventomax', 'med7d_formituinst', 'med7d_formitumax', \n",
    "              'med7d_num_pixels', 'med7d_ndvi', 'med7d_evi', 'med7d_prer_soja', 'med7d_prer_milho', \n",
    "              'med7d_prer_boi', 'cnt7d_cl_itumax', 'cnt7d_cl_ituinst'\n",
    "              ], axis=1)"
   ]
  },
  {
   "cell_type": "code",
   "execution_count": 50,
   "id": "e57dc4fc",
   "metadata": {
    "scrolled": true
   },
   "outputs": [],
   "source": [
    "#plotarBoxplotAgrupado ('Total de precipitacao de chuva','total de chuva por período', df_chuva )"
   ]
  },
  {
   "cell_type": "markdown",
   "id": "2f8ed228",
   "metadata": {},
   "source": [
    "### 2.2 Alto índice de correlação: Exclusão características relacionadas a Temperatura e Umidade"
   ]
  },
  {
   "cell_type": "markdown",
   "id": "07081617",
   "metadata": {},
   "source": [
    "<p style=\"color:#1155cc\">Baseado na relação entre a temperatura ambiente e a umidade foi calculado e incluído a base de dados o índice de temperatura e umidade <b>(ITU)</b> e a partir do valor do ITU a classe de conforto térmico dos animais. A matriz de correlação apresentou alta correlação entre essas características, desta foi mantida as variável correspondentes ao ITU instantâneo e a classe de conforto estantâneo.</p>"
   ]
  },
  {
   "cell_type": "code",
   "execution_count": 51,
   "id": "2c90d50c",
   "metadata": {},
   "outputs": [],
   "source": [
    "df.drop([\n",
    "        'med1m_tempinst', 'med1m_tempmax', 'med1m_tempmin', 'med1m_umidinst', 'med1m_umidmax', 'med1m_umidmin',\n",
    "        'med3m_tempinst', 'med3m_tempmax', 'med3m_tempmin', 'med3m_umidinst', 'med3m_umidmax', 'med6m_tempinst', \n",
    "        'med6m_tempmax', 'med6m_tempmin', 'med6m_umidinst', 'med6m_umidmax', 'med6m_umidmin', 'med3m_umidmin', \n",
    "        'med12m_tempinst', 'med12m_tempmax', 'med12m_tempmin', 'med12m_umidinst', 'med12m_umidmax', \n",
    "        'med12m_umidmin','med1m_formitumax', 'med3m_formitumax', 'med6m_formitumax', 'med12m_formitumax',\n",
    "        'cnt1m_cl_itumax', 'cnt3m_cl_itumax', 'cnt6m_cl_itumax','cnt12m_cl_itumax'\n",
    "        ], axis='columns', inplace = True)"
   ]
  },
  {
   "cell_type": "markdown",
   "id": "a6e1061c",
   "metadata": {},
   "source": [
    "### 2.3 Alto índice de correlação: NDVI e EVI"
   ]
  },
  {
   "cell_type": "markdown",
   "id": "ebdf9451",
   "metadata": {},
   "source": [
    "<p style=\"color:#1155cc\">As duas variáveis são Índices de Vegetação e apresentaram alto grau de correlação.</p>"
   ]
  },
  {
   "cell_type": "code",
   "execution_count": 52,
   "id": "28ca8115",
   "metadata": {},
   "outputs": [],
   "source": [
    "df.drop(['med1m_evi', 'med3m_evi', 'med6m_evi', 'med12m_evi'], axis='columns', inplace = True)"
   ]
  },
  {
   "cell_type": "markdown",
   "id": "1fb9cb21",
   "metadata": {},
   "source": [
    "### 2.4 Velocidade do vento, Pixels, Datas e Motivo desclassificação"
   ]
  },
  {
   "cell_type": "markdown",
   "id": "3842b0f2",
   "metadata": {},
   "source": [
    "<p style=\"color:#1155cc\">Motivo desclassificação, essa característica é obtida após o abate do novilho e não contribue para o processo de aprendizado de máquina.</p>"
   ]
  },
  {
   "cell_type": "code",
   "execution_count": 53,
   "id": "3649d25d",
   "metadata": {},
   "outputs": [],
   "source": [
    "df.drop([\n",
    "        'med1m_velventomax','med3m_velventomax', 'med6m_velventomax','med12m_velventomax', 'med1m_num_pixels', \n",
    "        'med3m_num_pixels', 'med6m_num_pixels', 'med12m_num_pixels','motivo_desclassificacao',\n",
    "        'data12m', 'data6m', 'data3m', 'data1m'\n",
    "        ], axis='columns', inplace = True)"
   ]
  },
  {
   "cell_type": "markdown",
   "id": "eb700b31",
   "metadata": {},
   "source": [
    "### 2.5 Dados ausentes"
   ]
  },
  {
   "cell_type": "code",
   "execution_count": 54,
   "id": "21f64aa6",
   "metadata": {},
   "outputs": [
    {
     "data": {
      "text/plain": [
       "NÃO     959158\n",
       "SIM      98695\n",
       "NULO     49836\n",
       "Name: fertiirrigacao, dtype: int64"
      ]
     },
     "execution_count": 54,
     "metadata": {},
     "output_type": "execute_result"
    }
   ],
   "source": [
    "df.fertiirrigacao.value_counts()"
   ]
  },
  {
   "cell_type": "markdown",
   "id": "5146df54",
   "metadata": {},
   "source": [
    "<p style=\"color:#1155cc\">Fertiirigação, ILP, ILPF, IFP quando são 'NULO' o valor para 'pratica_recuperacao_pastagem' é NaN.</p>"
   ]
  },
  {
   "cell_type": "code",
   "execution_count": 55,
   "id": "e647fae9",
   "metadata": {},
   "outputs": [],
   "source": [
    "df.dropna(subset=['pratica_recuperacao_pastagem'], inplace=True)"
   ]
  },
  {
   "cell_type": "code",
   "execution_count": 56,
   "id": "bb3dd7c6",
   "metadata": {},
   "outputs": [
    {
     "data": {
      "text/plain": [
       "qual_alianca                         700768\n",
       "lista_trace                          547884\n",
       "erosao_laminar_ou_sulco_20           194423\n",
       "boa_cobertura_vegetal                194423\n",
       "med12m_ndvi                           41895\n",
       "med3m_ndvi                            37002\n",
       "med1m_ndvi                            37002\n",
       "med6m_ndvi                            37002\n",
       "tot1m_chuva                            2363\n",
       "med6m_prer_soja                           0\n",
       "med3m_prer_soja                           0\n",
       "med3m_prer_milho                          0\n",
       "med3m_prer_boi                            0\n",
       "tot6m_chuva                               0\n",
       "med6m_formituinst                         0\n",
       "estabelecimento_municipio                 0\n",
       "med3m_formituinst                         0\n",
       "med6m_prer_boi                            0\n",
       "tot12m_chuva                              0\n",
       "med12m_formituinst                        0\n",
       "med12m_prer_soja                          0\n",
       "med12m_prer_milho                         0\n",
       "med12m_prer_boi                           0\n",
       "cnt1m_cl_ituinst                          0\n",
       "cnt3m_cl_ituinst                          0\n",
       "cnt6m_cl_ituinst                          0\n",
       "cnt12m_cl_ituinst                         0\n",
       "ano                                       0\n",
       "categoria                                 0\n",
       "med6m_prer_milho                          0\n",
       "med1m_prer_milho                          0\n",
       "tot3m_chuva                               0\n",
       "ilpf                                      0\n",
       "tipificacao                               0\n",
       "maturidade                                0\n",
       "acabamento                                0\n",
       "peso                                      0\n",
       "classificacao_estabelecimento             0\n",
       "outros_incentivos                         0\n",
       "pratica_recuperacao_pastagem              0\n",
       "fertiirrigacao                            0\n",
       "ilp                                       0\n",
       "ifp                                       0\n",
       "med1m_prer_boi                            0\n",
       "fabrica_racao                             0\n",
       "identificacao_individual                  0\n",
       "regua_de_manejo                           0\n",
       "bpa                                       0\n",
       "participa_aliancas_mercadologicas         0\n",
       "rastreamento_sisbov                       0\n",
       "med1m_formituinst                         0\n",
       "med1m_prer_soja                           0\n",
       "data_abate                                0\n",
       "classificacao                             0\n",
       "dtype: int64"
      ]
     },
     "execution_count": 56,
     "metadata": {},
     "output_type": "execute_result"
    }
   ],
   "source": [
    "df.isnull().sum().sort_values(ascending=False)"
   ]
  },
  {
   "cell_type": "markdown",
   "id": "581ebfb7",
   "metadata": {},
   "source": [
    "<p>Exclusão qual_alianca, lista_trace, erosao_laminar_ou_sulco_20,boa_cobertura_vegetal</p>"
   ]
  },
  {
   "cell_type": "code",
   "execution_count": 57,
   "id": "80ab173f",
   "metadata": {},
   "outputs": [],
   "source": [
    "df.drop(['qual_alianca','lista_trace', 'erosao_laminar_ou_sulco_20','boa_cobertura_vegetal'], axis='columns', inplace = True)"
   ]
  },
  {
   "cell_type": "code",
   "execution_count": 58,
   "id": "f76c6ec6",
   "metadata": {},
   "outputs": [
    {
     "data": {
      "text/plain": [
       "med12m_ndvi                          3.96\n",
       "med3m_ndvi                           3.50\n",
       "med1m_ndvi                           3.50\n",
       "med6m_ndvi                           3.50\n",
       "tot1m_chuva                          0.22\n",
       "med6m_prer_boi                       0.00\n",
       "med3m_prer_soja                      0.00\n",
       "med3m_prer_milho                     0.00\n",
       "med3m_prer_boi                       0.00\n",
       "tot6m_chuva                          0.00\n",
       "med6m_formituinst                    0.00\n",
       "med6m_prer_soja                      0.00\n",
       "med6m_prer_milho                     0.00\n",
       "estabelecimento_municipio            0.00\n",
       "med3m_formituinst                    0.00\n",
       "med12m_formituinst                   0.00\n",
       "med12m_prer_soja                     0.00\n",
       "med12m_prer_milho                    0.00\n",
       "med12m_prer_boi                      0.00\n",
       "cnt1m_cl_ituinst                     0.00\n",
       "cnt3m_cl_ituinst                     0.00\n",
       "cnt6m_cl_ituinst                     0.00\n",
       "cnt12m_cl_ituinst                    0.00\n",
       "ano                                  0.00\n",
       "categoria                            0.00\n",
       "tot12m_chuva                         0.00\n",
       "tot3m_chuva                          0.00\n",
       "data_abate                           0.00\n",
       "ilpf                                 0.00\n",
       "tipificacao                          0.00\n",
       "maturidade                           0.00\n",
       "acabamento                           0.00\n",
       "peso                                 0.00\n",
       "classificacao_estabelecimento        0.00\n",
       "outros_incentivos                    0.00\n",
       "pratica_recuperacao_pastagem         0.00\n",
       "fertiirrigacao                       0.00\n",
       "ilp                                  0.00\n",
       "ifp                                  0.00\n",
       "med1m_prer_boi                       0.00\n",
       "fabrica_racao                        0.00\n",
       "identificacao_individual             0.00\n",
       "regua_de_manejo                      0.00\n",
       "bpa                                  0.00\n",
       "participa_aliancas_mercadologicas    0.00\n",
       "rastreamento_sisbov                  0.00\n",
       "med1m_formituinst                    0.00\n",
       "med1m_prer_soja                      0.00\n",
       "med1m_prer_milho                     0.00\n",
       "classificacao                        0.00\n",
       "dtype: float64"
      ]
     },
     "execution_count": 58,
     "metadata": {},
     "output_type": "execute_result"
    }
   ],
   "source": [
    "round(df.isnull().mean() * 100,2).sort_values(ascending=False)"
   ]
  },
  {
   "cell_type": "code",
   "execution_count": 59,
   "id": "199228e5",
   "metadata": {},
   "outputs": [],
   "source": [
    "df.dropna(subset=['med12m_ndvi'], inplace=True)\n",
    "df.dropna(subset=['med3m_ndvi'], inplace=True)\n",
    "df.dropna(subset=['med1m_ndvi'], inplace=True)\n",
    "df.dropna(subset=['med6m_ndvi'], inplace=True)\n",
    "df.dropna(subset=['tot1m_chuva'], inplace=True)"
   ]
  },
  {
   "cell_type": "code",
   "execution_count": 60,
   "id": "fadff90f",
   "metadata": {},
   "outputs": [
    {
     "data": {
      "text/plain": [
       "estabelecimento_municipio            0.0\n",
       "tot12m_chuva                         0.0\n",
       "med3m_ndvi                           0.0\n",
       "med3m_prer_soja                      0.0\n",
       "med3m_prer_milho                     0.0\n",
       "med3m_prer_boi                       0.0\n",
       "tot6m_chuva                          0.0\n",
       "med6m_formituinst                    0.0\n",
       "med6m_ndvi                           0.0\n",
       "med6m_prer_soja                      0.0\n",
       "med6m_prer_milho                     0.0\n",
       "med6m_prer_boi                       0.0\n",
       "med12m_formituinst                   0.0\n",
       "data_abate                           0.0\n",
       "med12m_ndvi                          0.0\n",
       "med12m_prer_soja                     0.0\n",
       "med12m_prer_milho                    0.0\n",
       "med12m_prer_boi                      0.0\n",
       "cnt1m_cl_ituinst                     0.0\n",
       "cnt3m_cl_ituinst                     0.0\n",
       "cnt6m_cl_ituinst                     0.0\n",
       "cnt12m_cl_ituinst                    0.0\n",
       "ano                                  0.0\n",
       "categoria                            0.0\n",
       "med3m_formituinst                    0.0\n",
       "tot3m_chuva                          0.0\n",
       "med1m_prer_boi                       0.0\n",
       "med1m_prer_milho                     0.0\n",
       "tipificacao                          0.0\n",
       "maturidade                           0.0\n",
       "acabamento                           0.0\n",
       "peso                                 0.0\n",
       "classificacao_estabelecimento        0.0\n",
       "outros_incentivos                    0.0\n",
       "pratica_recuperacao_pastagem         0.0\n",
       "fertiirrigacao                       0.0\n",
       "ilp                                  0.0\n",
       "ilpf                                 0.0\n",
       "ifp                                  0.0\n",
       "fabrica_racao                        0.0\n",
       "identificacao_individual             0.0\n",
       "regua_de_manejo                      0.0\n",
       "bpa                                  0.0\n",
       "participa_aliancas_mercadologicas    0.0\n",
       "rastreamento_sisbov                  0.0\n",
       "tot1m_chuva                          0.0\n",
       "med1m_formituinst                    0.0\n",
       "med1m_ndvi                           0.0\n",
       "med1m_prer_soja                      0.0\n",
       "classificacao                        0.0\n",
       "dtype: float64"
      ]
     },
     "execution_count": 60,
     "metadata": {},
     "output_type": "execute_result"
    }
   ],
   "source": [
    "round(df.isnull().mean() * 100,2).sort_values(ascending=False)"
   ]
  },
  {
   "cell_type": "markdown",
   "id": "640cb9ec",
   "metadata": {},
   "source": [
    "## 3. Exclusão dos registros do ano de 2019 "
   ]
  },
  {
   "cell_type": "code",
   "execution_count": 61,
   "id": "3cd3236d",
   "metadata": {},
   "outputs": [
    {
     "data": {
      "text/plain": [
       "2018    668149\n",
       "2017    303000\n",
       "2019     42654\n",
       "Name: ano, dtype: int64"
      ]
     },
     "execution_count": 61,
     "metadata": {},
     "output_type": "execute_result"
    }
   ],
   "source": [
    "df.ano.value_counts()"
   ]
  },
  {
   "cell_type": "markdown",
   "id": "e9dc5fd9",
   "metadata": {},
   "source": [
    "<p style=\"color:#1155cc\">São 46.238 registros de 2019.</p>"
   ]
  },
  {
   "cell_type": "code",
   "execution_count": 62,
   "id": "e176345d",
   "metadata": {},
   "outputs": [],
   "source": [
    "df_new = df.query('ano == 2019')"
   ]
  },
  {
   "cell_type": "code",
   "execution_count": 63,
   "id": "f86c343e",
   "metadata": {},
   "outputs": [
    {
     "name": "stderr",
     "output_type": "stream",
     "text": [
      "<ipython-input-63-9638cdd4ee80>:1: SettingWithCopyWarning: \n",
      "A value is trying to be set on a copy of a slice from a DataFrame.\n",
      "Try using .loc[row_indexer,col_indexer] = value instead\n",
      "\n",
      "See the caveats in the documentation: https://pandas.pydata.org/pandas-docs/stable/user_guide/indexing.html#returning-a-view-versus-a-copy\n",
      "  df_new['data_abate'] = pd.to_datetime(df_new['data_abate'])\n"
     ]
    }
   ],
   "source": [
    "df_new['data_abate'] = pd.to_datetime(df_new['data_abate'])"
   ]
  },
  {
   "cell_type": "code",
   "execution_count": 64,
   "id": "b57ec2fe",
   "metadata": {},
   "outputs": [
    {
     "name": "stderr",
     "output_type": "stream",
     "text": [
      "<ipython-input-64-7601708f0949>:1: SettingWithCopyWarning: \n",
      "A value is trying to be set on a copy of a slice from a DataFrame.\n",
      "Try using .loc[row_indexer,col_indexer] = value instead\n",
      "\n",
      "See the caveats in the documentation: https://pandas.pydata.org/pandas-docs/stable/user_guide/indexing.html#returning-a-view-versus-a-copy\n",
      "  df_new['mes'] = df_new['data_abate'].dt.month\n"
     ]
    }
   ],
   "source": [
    "df_new['mes'] = df_new['data_abate'].dt.month "
   ]
  },
  {
   "cell_type": "code",
   "execution_count": 65,
   "id": "e6bc2da3",
   "metadata": {},
   "outputs": [
    {
     "data": {
      "text/plain": [
       "1    42654\n",
       "Name: mes, dtype: int64"
      ]
     },
     "execution_count": 65,
     "metadata": {},
     "output_type": "execute_result"
    }
   ],
   "source": [
    "df_new['mes'].value_counts()"
   ]
  },
  {
   "cell_type": "markdown",
   "id": "7cfb029f",
   "metadata": {},
   "source": [
    "<p style=\"color:#1155cc\">Todos os registros de 2019 são do mês de janeiro</p>"
   ]
  },
  {
   "cell_type": "code",
   "execution_count": 66,
   "id": "f41e4ca6",
   "metadata": {},
   "outputs": [],
   "source": [
    "#Exclusão dos registros de 2019\n",
    "df.drop(df.loc[df['ano']== 2019].index, inplace=True)"
   ]
  },
  {
   "cell_type": "markdown",
   "id": "295cf2f1",
   "metadata": {},
   "source": [
    "## 4. Exclusão dos registro do Peso considerados Outiliers "
   ]
  },
  {
   "cell_type": "code",
   "execution_count": 67,
   "id": "6afd1a86",
   "metadata": {},
   "outputs": [
    {
     "data": {
      "text/plain": [
       "count    971149.000000\n",
       "mean        268.548698\n",
       "std          46.492705\n",
       "min         102.000000\n",
       "25%         237.400000\n",
       "50%         272.000000\n",
       "75%         299.500000\n",
       "max        1566.000000\n",
       "Name: peso, dtype: float64"
      ]
     },
     "execution_count": 67,
     "metadata": {},
     "output_type": "execute_result"
    }
   ],
   "source": [
    "df.peso.describe()"
   ]
  },
  {
   "cell_type": "code",
   "execution_count": 68,
   "id": "4ab5ab5d",
   "metadata": {},
   "outputs": [],
   "source": [
    "df_remove = df.loc[(df['peso'] <= 159.5) | (df['peso'] >= 376.2)]"
   ]
  },
  {
   "cell_type": "code",
   "execution_count": 69,
   "id": "a79c9c5e",
   "metadata": {},
   "outputs": [],
   "source": [
    "df = df.drop(df_remove.index)"
   ]
  },
  {
   "cell_type": "code",
   "execution_count": 70,
   "id": "36f22b00",
   "metadata": {},
   "outputs": [
    {
     "name": "stdout",
     "output_type": "stream",
     "text": [
      "['estabelecimento_municipio', 'data_abate', 'tipificacao', 'maturidade', 'acabamento', 'peso', 'classificacao_estabelecimento', 'outros_incentivos', 'pratica_recuperacao_pastagem', 'fertiirrigacao', 'ilp', 'ilpf', 'ifp', 'fabrica_racao', 'identificacao_individual', 'regua_de_manejo', 'bpa', 'participa_aliancas_mercadologicas', 'rastreamento_sisbov', 'tot1m_chuva', 'med1m_formituinst', 'med1m_ndvi', 'med1m_prer_soja', 'med1m_prer_milho', 'med1m_prer_boi', 'tot3m_chuva', 'med3m_formituinst', 'med3m_ndvi', 'med3m_prer_soja', 'med3m_prer_milho', 'med3m_prer_boi', 'tot6m_chuva', 'med6m_formituinst', 'med6m_ndvi', 'med6m_prer_soja', 'med6m_prer_milho', 'med6m_prer_boi', 'tot12m_chuva', 'med12m_formituinst', 'med12m_ndvi', 'med12m_prer_soja', 'med12m_prer_milho', 'med12m_prer_boi', 'cnt1m_cl_ituinst', 'cnt3m_cl_ituinst', 'cnt6m_cl_ituinst', 'cnt12m_cl_ituinst', 'ano', 'categoria', 'classificacao']\n"
     ]
    }
   ],
   "source": [
    "print(df.columns.tolist())"
   ]
  },
  {
   "cell_type": "markdown",
   "id": "39b78c2e",
   "metadata": {},
   "source": [
    "### Resultado final"
   ]
  },
  {
   "cell_type": "code",
   "execution_count": 71,
   "id": "957043a4",
   "metadata": {},
   "outputs": [
    {
     "data": {
      "text/plain": [
       "(960939, 50)"
      ]
     },
     "execution_count": 71,
     "metadata": {},
     "output_type": "execute_result"
    }
   ],
   "source": [
    "df.shape"
   ]
  },
  {
   "cell_type": "code",
   "execution_count": 72,
   "id": "b67d6478",
   "metadata": {},
   "outputs": [
    {
     "name": "stdout",
     "output_type": "stream",
     "text": [
      "['estabelecimento_municipio', 'data_abate', 'tipificacao', 'maturidade', 'acabamento', 'peso', 'classificacao_estabelecimento', 'outros_incentivos', 'pratica_recuperacao_pastagem', 'fertiirrigacao', 'ilp', 'ilpf', 'ifp', 'fabrica_racao', 'identificacao_individual', 'regua_de_manejo', 'bpa', 'participa_aliancas_mercadologicas', 'rastreamento_sisbov', 'tot1m_chuva', 'med1m_formituinst', 'med1m_ndvi', 'med1m_prer_soja', 'med1m_prer_milho', 'med1m_prer_boi', 'tot3m_chuva', 'med3m_formituinst', 'med3m_ndvi', 'med3m_prer_soja', 'med3m_prer_milho', 'med3m_prer_boi', 'tot6m_chuva', 'med6m_formituinst', 'med6m_ndvi', 'med6m_prer_soja', 'med6m_prer_milho', 'med6m_prer_boi', 'tot12m_chuva', 'med12m_formituinst', 'med12m_ndvi', 'med12m_prer_soja', 'med12m_prer_milho', 'med12m_prer_boi', 'cnt1m_cl_ituinst', 'cnt3m_cl_ituinst', 'cnt6m_cl_ituinst', 'cnt12m_cl_ituinst', 'ano', 'categoria', 'classificacao']\n"
     ]
    }
   ],
   "source": [
    "print(df.columns.tolist())"
   ]
  },
  {
   "cell_type": "code",
   "execution_count": 73,
   "id": "f27685dc",
   "metadata": {},
   "outputs": [],
   "source": [
    "df.to_csv(\"dados_limpeza.csv\",sep=';', index = False)"
   ]
  }
 ],
 "metadata": {
  "kernelspec": {
   "display_name": "Python 3",
   "language": "python",
   "name": "python3"
  },
  "language_info": {
   "codemirror_mode": {
    "name": "ipython",
    "version": 3
   },
   "file_extension": ".py",
   "mimetype": "text/x-python",
   "name": "python",
   "nbconvert_exporter": "python",
   "pygments_lexer": "ipython3",
   "version": "3.8.8"
  }
 },
 "nbformat": 4,
 "nbformat_minor": 5
}
