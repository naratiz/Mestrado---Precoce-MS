{
 "cells": [
  {
   "cell_type": "markdown",
   "id": "d0f6f2d3",
   "metadata": {},
   "source": [
    "# Random Forest Regression - Predição do Peso da Carcaça"
   ]
  },
  {
   "cell_type": "code",
   "execution_count": 1,
   "id": "49b294bb",
   "metadata": {},
   "outputs": [],
   "source": [
    "import warnings\n",
    "warnings.simplefilter(action='ignore', category=FutureWarning)\n",
    "\n",
    "import pandas as pd\n",
    "import numpy as np\n",
    "from sklearn.model_selection import train_test_split\n",
    "from sklearn.ensemble import RandomForestRegressor\n",
    "from sklearn.metrics import accuracy_score, recall_score, confusion_matrix\n",
    "from sklearn import metrics\n",
    "from sklearn.metrics import mean_squared_error"
   ]
  },
  {
   "cell_type": "code",
   "execution_count": 2,
   "id": "fe89f04b",
   "metadata": {},
   "outputs": [],
   "source": [
    "df = pd.read_csv('../../dados/dadosTransformados_v1.csv', sep=';')"
   ]
  },
  {
   "cell_type": "code",
   "execution_count": 3,
   "id": "d4ed5114",
   "metadata": {
    "scrolled": true
   },
   "outputs": [
    {
     "data": {
      "text/plain": [
       "(960939, 53)"
      ]
     },
     "execution_count": 3,
     "metadata": {},
     "output_type": "execute_result"
    }
   ],
   "source": [
    "df.shape"
   ]
  },
  {
   "cell_type": "code",
   "execution_count": 4,
   "id": "44e7c2dc",
   "metadata": {},
   "outputs": [],
   "source": [
    "pd.set_option('display.max_columns',999)\n",
    "pd.set_option(\"display.max_rows\", 999)"
   ]
  },
  {
   "cell_type": "code",
   "execution_count": 5,
   "id": "56d6603d",
   "metadata": {
    "scrolled": true
   },
   "outputs": [
    {
     "data": {
      "text/html": [
       "<div>\n",
       "<style scoped>\n",
       "    .dataframe tbody tr th:only-of-type {\n",
       "        vertical-align: middle;\n",
       "    }\n",
       "\n",
       "    .dataframe tbody tr th {\n",
       "        vertical-align: top;\n",
       "    }\n",
       "\n",
       "    .dataframe thead th {\n",
       "        text-align: right;\n",
       "    }\n",
       "</style>\n",
       "<table border=\"1\" class=\"dataframe\">\n",
       "  <thead>\n",
       "    <tr style=\"text-align: right;\">\n",
       "      <th></th>\n",
       "      <th>tipificacao_1</th>\n",
       "      <th>tipificacao_2</th>\n",
       "      <th>tipificacao_3</th>\n",
       "      <th>maturidade</th>\n",
       "      <th>acabamento</th>\n",
       "      <th>peso</th>\n",
       "      <th>classificacao_estabelecimento</th>\n",
       "      <th>outros_incentivos</th>\n",
       "      <th>pratica_recuperacao_pastagem</th>\n",
       "      <th>fertiirrigacao</th>\n",
       "      <th>ilp</th>\n",
       "      <th>ilpf</th>\n",
       "      <th>ifp</th>\n",
       "      <th>fabrica_racao</th>\n",
       "      <th>identificacao_individual</th>\n",
       "      <th>regua_de_manejo</th>\n",
       "      <th>bpa</th>\n",
       "      <th>participa_aliancas_mercadologicas</th>\n",
       "      <th>rastreamento_sisbov</th>\n",
       "      <th>tot1m_chuva</th>\n",
       "      <th>med1m_formituinst</th>\n",
       "      <th>med1m_ndvi</th>\n",
       "      <th>med1m_prer_soja</th>\n",
       "      <th>med1m_prer_milho</th>\n",
       "      <th>med1m_prer_boi</th>\n",
       "      <th>tot3m_chuva</th>\n",
       "      <th>med3m_formituinst</th>\n",
       "      <th>med3m_ndvi</th>\n",
       "      <th>med3m_prer_soja</th>\n",
       "      <th>med3m_prer_milho</th>\n",
       "      <th>med3m_prer_boi</th>\n",
       "      <th>tot6m_chuva</th>\n",
       "      <th>med6m_formituinst</th>\n",
       "      <th>med6m_ndvi</th>\n",
       "      <th>med6m_prer_soja</th>\n",
       "      <th>med6m_prer_milho</th>\n",
       "      <th>med6m_prer_boi</th>\n",
       "      <th>tot12m_chuva</th>\n",
       "      <th>med12m_formituinst</th>\n",
       "      <th>med12m_ndvi</th>\n",
       "      <th>med12m_prer_soja</th>\n",
       "      <th>med12m_prer_milho</th>\n",
       "      <th>med12m_prer_boi</th>\n",
       "      <th>cnt1m_cl_ituinst</th>\n",
       "      <th>cnt3m_cl_ituinst</th>\n",
       "      <th>cnt6m_cl_ituinst</th>\n",
       "      <th>cnt12m_cl_ituinst</th>\n",
       "      <th>ano</th>\n",
       "      <th>categoria</th>\n",
       "      <th>classificacao</th>\n",
       "      <th>longitude</th>\n",
       "      <th>latitude</th>\n",
       "      <th>mes</th>\n",
       "    </tr>\n",
       "  </thead>\n",
       "  <tbody>\n",
       "    <tr>\n",
       "      <th>0</th>\n",
       "      <td>1</td>\n",
       "      <td>0</td>\n",
       "      <td>0</td>\n",
       "      <td>1</td>\n",
       "      <td>3</td>\n",
       "      <td>345.4</td>\n",
       "      <td>26.0</td>\n",
       "      <td>0</td>\n",
       "      <td>0</td>\n",
       "      <td>0</td>\n",
       "      <td>0</td>\n",
       "      <td>0</td>\n",
       "      <td>0</td>\n",
       "      <td>1</td>\n",
       "      <td>1</td>\n",
       "      <td>1</td>\n",
       "      <td>0</td>\n",
       "      <td>1</td>\n",
       "      <td>1</td>\n",
       "      <td>197.61</td>\n",
       "      <td>72.22</td>\n",
       "      <td>0.64</td>\n",
       "      <td>74.68</td>\n",
       "      <td>36.31</td>\n",
       "      <td>145.47</td>\n",
       "      <td>601.79</td>\n",
       "      <td>72.21</td>\n",
       "      <td>0.63</td>\n",
       "      <td>75.32</td>\n",
       "      <td>36.04</td>\n",
       "      <td>147.1</td>\n",
       "      <td>1190.49</td>\n",
       "      <td>72.21</td>\n",
       "      <td>0.63</td>\n",
       "      <td>75.32</td>\n",
       "      <td>36.04</td>\n",
       "      <td>147.1</td>\n",
       "      <td>2012.51</td>\n",
       "      <td>74.54</td>\n",
       "      <td>0.63</td>\n",
       "      <td>75.32</td>\n",
       "      <td>36.04</td>\n",
       "      <td>147.1</td>\n",
       "      <td>0.6129</td>\n",
       "      <td>0.5882</td>\n",
       "      <td>0.5882</td>\n",
       "      <td>0.5882</td>\n",
       "      <td>2017</td>\n",
       "      <td>1</td>\n",
       "      <td>1</td>\n",
       "      <td>-54.36319</td>\n",
       "      <td>-19.92092</td>\n",
       "      <td>2</td>\n",
       "    </tr>\n",
       "    <tr>\n",
       "      <th>1</th>\n",
       "      <td>1</td>\n",
       "      <td>0</td>\n",
       "      <td>0</td>\n",
       "      <td>1</td>\n",
       "      <td>3</td>\n",
       "      <td>268.8</td>\n",
       "      <td>26.0</td>\n",
       "      <td>0</td>\n",
       "      <td>0</td>\n",
       "      <td>0</td>\n",
       "      <td>0</td>\n",
       "      <td>0</td>\n",
       "      <td>0</td>\n",
       "      <td>1</td>\n",
       "      <td>1</td>\n",
       "      <td>1</td>\n",
       "      <td>0</td>\n",
       "      <td>1</td>\n",
       "      <td>1</td>\n",
       "      <td>197.61</td>\n",
       "      <td>72.22</td>\n",
       "      <td>0.64</td>\n",
       "      <td>74.68</td>\n",
       "      <td>36.31</td>\n",
       "      <td>145.47</td>\n",
       "      <td>601.79</td>\n",
       "      <td>72.21</td>\n",
       "      <td>0.63</td>\n",
       "      <td>75.32</td>\n",
       "      <td>36.04</td>\n",
       "      <td>147.1</td>\n",
       "      <td>1190.49</td>\n",
       "      <td>72.21</td>\n",
       "      <td>0.63</td>\n",
       "      <td>75.32</td>\n",
       "      <td>36.04</td>\n",
       "      <td>147.1</td>\n",
       "      <td>2012.51</td>\n",
       "      <td>74.54</td>\n",
       "      <td>0.63</td>\n",
       "      <td>75.32</td>\n",
       "      <td>36.04</td>\n",
       "      <td>147.1</td>\n",
       "      <td>0.6129</td>\n",
       "      <td>0.5882</td>\n",
       "      <td>0.5882</td>\n",
       "      <td>0.5882</td>\n",
       "      <td>2017</td>\n",
       "      <td>1</td>\n",
       "      <td>1</td>\n",
       "      <td>-54.36319</td>\n",
       "      <td>-19.92092</td>\n",
       "      <td>2</td>\n",
       "    </tr>\n",
       "    <tr>\n",
       "      <th>2</th>\n",
       "      <td>1</td>\n",
       "      <td>0</td>\n",
       "      <td>0</td>\n",
       "      <td>1</td>\n",
       "      <td>3</td>\n",
       "      <td>288.4</td>\n",
       "      <td>26.0</td>\n",
       "      <td>0</td>\n",
       "      <td>0</td>\n",
       "      <td>0</td>\n",
       "      <td>0</td>\n",
       "      <td>0</td>\n",
       "      <td>0</td>\n",
       "      <td>1</td>\n",
       "      <td>1</td>\n",
       "      <td>1</td>\n",
       "      <td>0</td>\n",
       "      <td>1</td>\n",
       "      <td>1</td>\n",
       "      <td>197.61</td>\n",
       "      <td>72.22</td>\n",
       "      <td>0.64</td>\n",
       "      <td>74.68</td>\n",
       "      <td>36.31</td>\n",
       "      <td>145.47</td>\n",
       "      <td>601.79</td>\n",
       "      <td>72.21</td>\n",
       "      <td>0.63</td>\n",
       "      <td>75.32</td>\n",
       "      <td>36.04</td>\n",
       "      <td>147.1</td>\n",
       "      <td>1190.49</td>\n",
       "      <td>72.21</td>\n",
       "      <td>0.63</td>\n",
       "      <td>75.32</td>\n",
       "      <td>36.04</td>\n",
       "      <td>147.1</td>\n",
       "      <td>2012.51</td>\n",
       "      <td>74.54</td>\n",
       "      <td>0.63</td>\n",
       "      <td>75.32</td>\n",
       "      <td>36.04</td>\n",
       "      <td>147.1</td>\n",
       "      <td>0.6129</td>\n",
       "      <td>0.5882</td>\n",
       "      <td>0.5882</td>\n",
       "      <td>0.5882</td>\n",
       "      <td>2017</td>\n",
       "      <td>1</td>\n",
       "      <td>1</td>\n",
       "      <td>-54.36319</td>\n",
       "      <td>-19.92092</td>\n",
       "      <td>2</td>\n",
       "    </tr>\n",
       "    <tr>\n",
       "      <th>3</th>\n",
       "      <td>1</td>\n",
       "      <td>0</td>\n",
       "      <td>0</td>\n",
       "      <td>1</td>\n",
       "      <td>3</td>\n",
       "      <td>357.2</td>\n",
       "      <td>26.0</td>\n",
       "      <td>0</td>\n",
       "      <td>0</td>\n",
       "      <td>0</td>\n",
       "      <td>0</td>\n",
       "      <td>0</td>\n",
       "      <td>0</td>\n",
       "      <td>1</td>\n",
       "      <td>1</td>\n",
       "      <td>1</td>\n",
       "      <td>0</td>\n",
       "      <td>1</td>\n",
       "      <td>1</td>\n",
       "      <td>197.61</td>\n",
       "      <td>72.22</td>\n",
       "      <td>0.64</td>\n",
       "      <td>74.68</td>\n",
       "      <td>36.31</td>\n",
       "      <td>145.47</td>\n",
       "      <td>601.79</td>\n",
       "      <td>72.21</td>\n",
       "      <td>0.63</td>\n",
       "      <td>75.32</td>\n",
       "      <td>36.04</td>\n",
       "      <td>147.1</td>\n",
       "      <td>1190.49</td>\n",
       "      <td>72.21</td>\n",
       "      <td>0.63</td>\n",
       "      <td>75.32</td>\n",
       "      <td>36.04</td>\n",
       "      <td>147.1</td>\n",
       "      <td>2012.51</td>\n",
       "      <td>74.54</td>\n",
       "      <td>0.63</td>\n",
       "      <td>75.32</td>\n",
       "      <td>36.04</td>\n",
       "      <td>147.1</td>\n",
       "      <td>0.6129</td>\n",
       "      <td>0.5882</td>\n",
       "      <td>0.5882</td>\n",
       "      <td>0.5882</td>\n",
       "      <td>2017</td>\n",
       "      <td>1</td>\n",
       "      <td>1</td>\n",
       "      <td>-54.36319</td>\n",
       "      <td>-19.92092</td>\n",
       "      <td>2</td>\n",
       "    </tr>\n",
       "    <tr>\n",
       "      <th>4</th>\n",
       "      <td>1</td>\n",
       "      <td>0</td>\n",
       "      <td>0</td>\n",
       "      <td>1</td>\n",
       "      <td>3</td>\n",
       "      <td>267.6</td>\n",
       "      <td>26.0</td>\n",
       "      <td>0</td>\n",
       "      <td>0</td>\n",
       "      <td>0</td>\n",
       "      <td>0</td>\n",
       "      <td>0</td>\n",
       "      <td>0</td>\n",
       "      <td>1</td>\n",
       "      <td>1</td>\n",
       "      <td>1</td>\n",
       "      <td>0</td>\n",
       "      <td>1</td>\n",
       "      <td>1</td>\n",
       "      <td>197.61</td>\n",
       "      <td>72.22</td>\n",
       "      <td>0.64</td>\n",
       "      <td>74.68</td>\n",
       "      <td>36.31</td>\n",
       "      <td>145.47</td>\n",
       "      <td>601.79</td>\n",
       "      <td>72.21</td>\n",
       "      <td>0.63</td>\n",
       "      <td>75.32</td>\n",
       "      <td>36.04</td>\n",
       "      <td>147.1</td>\n",
       "      <td>1190.49</td>\n",
       "      <td>72.21</td>\n",
       "      <td>0.63</td>\n",
       "      <td>75.32</td>\n",
       "      <td>36.04</td>\n",
       "      <td>147.1</td>\n",
       "      <td>2012.51</td>\n",
       "      <td>74.54</td>\n",
       "      <td>0.63</td>\n",
       "      <td>75.32</td>\n",
       "      <td>36.04</td>\n",
       "      <td>147.1</td>\n",
       "      <td>0.6129</td>\n",
       "      <td>0.5882</td>\n",
       "      <td>0.5882</td>\n",
       "      <td>0.5882</td>\n",
       "      <td>2017</td>\n",
       "      <td>1</td>\n",
       "      <td>1</td>\n",
       "      <td>-54.36319</td>\n",
       "      <td>-19.92092</td>\n",
       "      <td>2</td>\n",
       "    </tr>\n",
       "  </tbody>\n",
       "</table>\n",
       "</div>"
      ],
      "text/plain": [
       "   tipificacao_1  tipificacao_2  tipificacao_3  maturidade  acabamento   peso  \\\n",
       "0              1              0              0           1           3  345.4   \n",
       "1              1              0              0           1           3  268.8   \n",
       "2              1              0              0           1           3  288.4   \n",
       "3              1              0              0           1           3  357.2   \n",
       "4              1              0              0           1           3  267.6   \n",
       "\n",
       "   classificacao_estabelecimento  outros_incentivos  \\\n",
       "0                           26.0                  0   \n",
       "1                           26.0                  0   \n",
       "2                           26.0                  0   \n",
       "3                           26.0                  0   \n",
       "4                           26.0                  0   \n",
       "\n",
       "   pratica_recuperacao_pastagem  fertiirrigacao  ilp  ilpf  ifp  \\\n",
       "0                             0               0    0     0    0   \n",
       "1                             0               0    0     0    0   \n",
       "2                             0               0    0     0    0   \n",
       "3                             0               0    0     0    0   \n",
       "4                             0               0    0     0    0   \n",
       "\n",
       "   fabrica_racao  identificacao_individual  regua_de_manejo  bpa  \\\n",
       "0              1                         1                1    0   \n",
       "1              1                         1                1    0   \n",
       "2              1                         1                1    0   \n",
       "3              1                         1                1    0   \n",
       "4              1                         1                1    0   \n",
       "\n",
       "   participa_aliancas_mercadologicas  rastreamento_sisbov  tot1m_chuva  \\\n",
       "0                                  1                    1       197.61   \n",
       "1                                  1                    1       197.61   \n",
       "2                                  1                    1       197.61   \n",
       "3                                  1                    1       197.61   \n",
       "4                                  1                    1       197.61   \n",
       "\n",
       "   med1m_formituinst  med1m_ndvi  med1m_prer_soja  med1m_prer_milho  \\\n",
       "0              72.22        0.64            74.68             36.31   \n",
       "1              72.22        0.64            74.68             36.31   \n",
       "2              72.22        0.64            74.68             36.31   \n",
       "3              72.22        0.64            74.68             36.31   \n",
       "4              72.22        0.64            74.68             36.31   \n",
       "\n",
       "   med1m_prer_boi  tot3m_chuva  med3m_formituinst  med3m_ndvi  \\\n",
       "0          145.47       601.79              72.21        0.63   \n",
       "1          145.47       601.79              72.21        0.63   \n",
       "2          145.47       601.79              72.21        0.63   \n",
       "3          145.47       601.79              72.21        0.63   \n",
       "4          145.47       601.79              72.21        0.63   \n",
       "\n",
       "   med3m_prer_soja  med3m_prer_milho  med3m_prer_boi  tot6m_chuva  \\\n",
       "0            75.32             36.04           147.1      1190.49   \n",
       "1            75.32             36.04           147.1      1190.49   \n",
       "2            75.32             36.04           147.1      1190.49   \n",
       "3            75.32             36.04           147.1      1190.49   \n",
       "4            75.32             36.04           147.1      1190.49   \n",
       "\n",
       "   med6m_formituinst  med6m_ndvi  med6m_prer_soja  med6m_prer_milho  \\\n",
       "0              72.21        0.63            75.32             36.04   \n",
       "1              72.21        0.63            75.32             36.04   \n",
       "2              72.21        0.63            75.32             36.04   \n",
       "3              72.21        0.63            75.32             36.04   \n",
       "4              72.21        0.63            75.32             36.04   \n",
       "\n",
       "   med6m_prer_boi  tot12m_chuva  med12m_formituinst  med12m_ndvi  \\\n",
       "0           147.1       2012.51               74.54         0.63   \n",
       "1           147.1       2012.51               74.54         0.63   \n",
       "2           147.1       2012.51               74.54         0.63   \n",
       "3           147.1       2012.51               74.54         0.63   \n",
       "4           147.1       2012.51               74.54         0.63   \n",
       "\n",
       "   med12m_prer_soja  med12m_prer_milho  med12m_prer_boi  cnt1m_cl_ituinst  \\\n",
       "0             75.32              36.04            147.1            0.6129   \n",
       "1             75.32              36.04            147.1            0.6129   \n",
       "2             75.32              36.04            147.1            0.6129   \n",
       "3             75.32              36.04            147.1            0.6129   \n",
       "4             75.32              36.04            147.1            0.6129   \n",
       "\n",
       "   cnt3m_cl_ituinst  cnt6m_cl_ituinst  cnt12m_cl_ituinst   ano  categoria  \\\n",
       "0            0.5882            0.5882             0.5882  2017          1   \n",
       "1            0.5882            0.5882             0.5882  2017          1   \n",
       "2            0.5882            0.5882             0.5882  2017          1   \n",
       "3            0.5882            0.5882             0.5882  2017          1   \n",
       "4            0.5882            0.5882             0.5882  2017          1   \n",
       "\n",
       "   classificacao  longitude  latitude  mes  \n",
       "0              1  -54.36319 -19.92092    2  \n",
       "1              1  -54.36319 -19.92092    2  \n",
       "2              1  -54.36319 -19.92092    2  \n",
       "3              1  -54.36319 -19.92092    2  \n",
       "4              1  -54.36319 -19.92092    2  "
      ]
     },
     "execution_count": 5,
     "metadata": {},
     "output_type": "execute_result"
    }
   ],
   "source": [
    "df.head(5)"
   ]
  },
  {
   "cell_type": "markdown",
   "id": "8240cf88",
   "metadata": {},
   "source": [
    "## Criando conjunto de treino e de teste"
   ]
  },
  {
   "cell_type": "code",
   "execution_count": 6,
   "id": "e451629c",
   "metadata": {},
   "outputs": [],
   "source": [
    "y = df['peso']\n",
    "X = df.drop('peso',axis=1)"
   ]
  },
  {
   "cell_type": "code",
   "execution_count": 7,
   "id": "325784c1",
   "metadata": {},
   "outputs": [],
   "source": [
    "SEED = 43"
   ]
  },
  {
   "cell_type": "code",
   "execution_count": 8,
   "id": "15532ce0",
   "metadata": {},
   "outputs": [],
   "source": [
    "X_train, X_test, y_train, y_test = train_test_split(X, y, test_size=0.3, random_state=SEED)"
   ]
  },
  {
   "cell_type": "code",
   "execution_count": 9,
   "id": "abe65a5c",
   "metadata": {},
   "outputs": [
    {
     "data": {
      "text/plain": [
       "(672657, 52)"
      ]
     },
     "execution_count": 9,
     "metadata": {},
     "output_type": "execute_result"
    }
   ],
   "source": [
    "X_train.shape"
   ]
  },
  {
   "cell_type": "markdown",
   "id": "c147855a",
   "metadata": {},
   "source": [
    "## Treinando o Modelo"
   ]
  },
  {
   "cell_type": "code",
   "execution_count": 10,
   "id": "c386b91c",
   "metadata": {},
   "outputs": [
    {
     "data": {
      "text/plain": [
       "RandomForestRegressor(random_state=0)"
      ]
     },
     "execution_count": 10,
     "metadata": {},
     "output_type": "execute_result"
    }
   ],
   "source": [
    "model = RandomForestRegressor(n_estimators = 100, random_state = 0)\n",
    "model.fit(X, y)  "
   ]
  },
  {
   "cell_type": "markdown",
   "id": "d46f5a5c",
   "metadata": {},
   "source": [
    "## Previsões dados de treino"
   ]
  },
  {
   "cell_type": "code",
   "execution_count": 11,
   "id": "addf0f71",
   "metadata": {},
   "outputs": [],
   "source": [
    "y_predicted_train = model.predict(X_train)\n",
    "y_predicted = model.predict(X_test)"
   ]
  },
  {
   "cell_type": "markdown",
   "id": "4cf01449",
   "metadata": {},
   "source": [
    "## Analisando o Modelo"
   ]
  },
  {
   "cell_type": "code",
   "execution_count": 12,
   "id": "269c782f",
   "metadata": {},
   "outputs": [
    {
     "name": "stdout",
     "output_type": "stream",
     "text": [
      "0.8251586067863147\n"
     ]
    }
   ],
   "source": [
    "print(model.score(X_test, y_test))"
   ]
  },
  {
   "cell_type": "code",
   "execution_count": 13,
   "id": "b2c174c7",
   "metadata": {},
   "outputs": [
    {
     "name": "stdout",
     "output_type": "stream",
     "text": [
      "18.53097034921555\n"
     ]
    }
   ],
   "source": [
    "print(np.sqrt(mean_squared_error(y_test, y_predicted)))"
   ]
  },
  {
   "cell_type": "code",
   "execution_count": 14,
   "id": "48c2b0f8",
   "metadata": {},
   "outputs": [
    {
     "name": "stdout",
     "output_type": "stream",
     "text": [
      "Mean Absolute Error (MAE): 13.998172646049218\n",
      "Mean Squared Error (MSE): 343.39686208350594\n",
      "Root Mean Squared Error (RMSEp): 18.53097034921555\n"
     ]
    }
   ],
   "source": [
    "print('Mean Absolute Error (MAE):', metrics.mean_absolute_error(y_test, y_predicted))\n",
    "print('Mean Squared Error (MSE):', metrics.mean_squared_error(y_test, y_predicted))\n",
    "print('Root Mean Squared Error (RMSEp):', np.sqrt(metrics.mean_squared_error(y_test, y_predicted)))"
   ]
  },
  {
   "cell_type": "markdown",
   "id": "d72b0b9a",
   "metadata": {},
   "source": [
    "## Validação do Modelo"
   ]
  },
  {
   "cell_type": "code",
   "execution_count": 15,
   "id": "0d357bde",
   "metadata": {},
   "outputs": [],
   "source": [
    "from sklearn.model_selection import KFold\n",
    "from sklearn.model_selection import cross_validate"
   ]
  },
  {
   "cell_type": "code",
   "execution_count": 17,
   "id": "21cfab33",
   "metadata": {},
   "outputs": [],
   "source": [
    "SEED = 1580\n",
    "np.random.seed(SEED)\n",
    "cv = KFold(n_splits = 10, shuffle = True)\n",
    "results = cross_validate(model, X, y,cv=cv, return_train_score= False)"
   ]
  },
  {
   "cell_type": "code",
   "execution_count": 18,
   "id": "f2f6f788",
   "metadata": {},
   "outputs": [],
   "source": [
    "def imprime_resulado(results) :\n",
    "    media = results ['test_score'].mean()\n",
    "    print('Accuracy médio %.2f' % (media*100))\n",
    "    desvio_padrao = results['test_score'].std()\n",
    "    print(\"Accuracy intervalo [ %.2f, %.2f ]\" % (media - 2 * desvio_padrao, media + 2 * desvio_padrao))\n",
    "    "
   ]
  },
  {
   "cell_type": "code",
   "execution_count": 19,
   "id": "fcb7b1b8",
   "metadata": {},
   "outputs": [
    {
     "name": "stdout",
     "output_type": "stream",
     "text": [
      "Accuracy médio 79.49\n",
      "Accuracy intervalo [ 0.79, 0.80 ]\n"
     ]
    }
   ],
   "source": [
    "imprime_resulado(results)"
   ]
  },
  {
   "cell_type": "code",
   "execution_count": null,
   "id": "bf0fda72",
   "metadata": {},
   "outputs": [],
   "source": []
  }
 ],
 "metadata": {
  "kernelspec": {
   "display_name": "Python 3",
   "language": "python",
   "name": "python3"
  },
  "language_info": {
   "codemirror_mode": {
    "name": "ipython",
    "version": 3
   },
   "file_extension": ".py",
   "mimetype": "text/x-python",
   "name": "python",
   "nbconvert_exporter": "python",
   "pygments_lexer": "ipython3",
   "version": "3.8.8"
  }
 },
 "nbformat": 4,
 "nbformat_minor": 5
}
